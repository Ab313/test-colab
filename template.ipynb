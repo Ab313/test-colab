{
  "nbformat": 4,
  "nbformat_minor": 0,
  "metadata": {
    "colab": {
      "name": "Intro.ipynb",
      "provenance": [],
      "collapsed_sections": [],
      "authorship_tag": "ABX9TyNI9CPQKl6KQril8cOhzsOs",
      "include_colab_link": true
    },
    "kernelspec": {
      "name": "python3",
      "display_name": "Python 3"
    },
    "language_info": {
      "name": "python"
    }
  },
  "cells": [
    {
      "cell_type": "markdown",
      "metadata": {
        "id": "view-in-github",
        "colab_type": "text"
      },
      "source": [
        "<a href=\"https://colab.research.google.com/github/Ab313/test-colab/blob/master/template.ipynb\" target=\"_parent\"><img src=\"https://colab.research.google.com/assets/colab-badge.svg\" alt=\"Open In Colab\"/></a>"
      ]
    },
    {
      "cell_type": "markdown",
      "metadata": {
        "id": "gMtVh0JhJeCw"
      },
      "source": [
        "##Sales\n"
      ]
    },
    {
      "cell_type": "code",
      "metadata": {
        "colab": {
          "base_uri": "https://localhost:8080/"
        },
        "id": "IT7_anYnI1Ow",
        "outputId": "d3985994-532b-4504-b9f9-6ce764b111b5"
      },
      "source": [
        "revenue = 10000\n",
        "tax = 0.19\n",
        "income = revenue * tax\n",
        "income"
      ],
      "execution_count": null,
      "outputs": [
        {
          "output_type": "execute_result",
          "data": {
            "text/plain": [
              "1900.0"
            ]
          },
          "metadata": {},
          "execution_count": 5
        }
      ]
    },
    {
      "cell_type": "markdown",
      "metadata": {
        "id": "wbGJ3v_VJpkF"
      },
      "source": [
        "##Summary"
      ]
    },
    {
      "cell_type": "code",
      "metadata": {
        "colab": {
          "base_uri": "https://localhost:8080/",
          "height": 35
        },
        "id": "YLA5GUYeJ89Q",
        "outputId": "d1038b60-455c-4e23-975c-3aa98632fd74"
      },
      "source": [
        "import numpy as np\n",
        "np.__version__"
      ],
      "execution_count": null,
      "outputs": [
        {
          "output_type": "execute_result",
          "data": {
            "application/vnd.google.colaboratory.intrinsic+json": {
              "type": "string"
            },
            "text/plain": [
              "'1.19.5'"
            ]
          },
          "metadata": {},
          "execution_count": 7
        }
      ]
    },
    {
      "cell_type": "code",
      "metadata": {
        "colab": {
          "base_uri": "https://localhost:8080/",
          "height": 322
        },
        "id": "27Gx_wLaJ3cB",
        "outputId": "a925e937-35a1-455b-e079-1c1ee7e8f42a"
      },
      "source": [
        "np.random.rand?\n",
        "import imageai\n"
      ],
      "execution_count": null,
      "outputs": [
        {
          "output_type": "error",
          "ename": "ModuleNotFoundError",
          "evalue": "ignored",
          "traceback": [
            "\u001b[0;31m---------------------------------------------------------------------------\u001b[0m",
            "\u001b[0;31mModuleNotFoundError\u001b[0m                       Traceback (most recent call last)",
            "\u001b[0;32m<ipython-input-10-8550d55500a9>\u001b[0m in \u001b[0;36m<module>\u001b[0;34m()\u001b[0m\n\u001b[1;32m      1\u001b[0m \u001b[0mget_ipython\u001b[0m\u001b[0;34m(\u001b[0m\u001b[0;34m)\u001b[0m\u001b[0;34m.\u001b[0m\u001b[0mmagic\u001b[0m\u001b[0;34m(\u001b[0m\u001b[0;34m'pinfo np.random.rand'\u001b[0m\u001b[0;34m)\u001b[0m\u001b[0;34m\u001b[0m\u001b[0;34m\u001b[0m\u001b[0m\n\u001b[0;32m----> 2\u001b[0;31m \u001b[0;32mimport\u001b[0m \u001b[0mimageai\u001b[0m\u001b[0;34m\u001b[0m\u001b[0;34m\u001b[0m\u001b[0m\n\u001b[0m",
            "\u001b[0;31mModuleNotFoundError\u001b[0m: No module named 'imageai'",
            "",
            "\u001b[0;31m---------------------------------------------------------------------------\u001b[0;32m\nNOTE: If your import is failing due to a missing package, you can\nmanually install dependencies using either !pip or !apt.\n\nTo view examples of installing some common dependencies, click the\n\"Open Examples\" button below.\n\u001b[0;31m---------------------------------------------------------------------------\u001b[0m\n"
          ],
          "errorDetails": {
            "actions": [
              {
                "action": "open_url",
                "actionText": "Open Examples",
                "url": "/notebooks/snippets/importing_libraries.ipynb"
              }
            ]
          }
        }
      ]
    },
    {
      "cell_type": "code",
      "metadata": {
        "id": "4_CiwCrHM7Kw"
      },
      "source": [
        "import imageai"
      ],
      "execution_count": null,
      "outputs": []
    },
    {
      "cell_type": "markdown",
      "metadata": {
        "id": "eLpzcKXHNIiE"
      },
      "source": [
        "##Markdown"
      ]
    },
    {
      "cell_type": "markdown",
      "metadata": {
        "id": "g58CqNk9OJ3J"
      },
      "source": [
        "\n",
        "Example of *markdown*\n",
        "\n",
        "Example of **markdown**\n",
        "\n",
        "Example of __markdown__\n",
        "\n",
        "Example of `markdown`\n",
        "\n",
        "```\n",
        "Example of markdown\n",
        "```\n",
        "\n",
        "\n",
        ">Python\n",
        ">>>Python\n",
        "\n",
        "An ordered list:\n",
        "1. One\n",
        "2. Two\n",
        "3. Three\n",
        "\n",
        "An unordered list:\n",
        "* One\n",
        "* Two\n",
        "* Three\n",
        "\n"
      ]
    },
    {
      "cell_type": "markdown",
      "metadata": {
        "id": "N8w_5WQjQE9q"
      },
      "source": [
        "\n",
        "[Google](https://www.google.com)"
      ]
    },
    {
      "cell_type": "markdown",
      "metadata": {
        "id": "9Fqzju7bQi73"
      },
      "source": [
        "$y = x^2$\n"
      ]
    },
    {
      "cell_type": "code",
      "metadata": {
        "colab": {
          "base_uri": "https://localhost:8080/"
        },
        "id": "zABBA25FPvFY",
        "outputId": "799974c6-e312-4ba2-9ad2-bec0bcdd2e05"
      },
      "source": [
        "lang = 'Python'\n",
        "version = '3.8'\n",
        "print(f'I am learning {lang} version {version}')"
      ],
      "execution_count": null,
      "outputs": [
        {
          "output_type": "stream",
          "name": "stdout",
          "text": [
            "I am learning Python version 3.8\n"
          ]
        }
      ]
    },
    {
      "cell_type": "code",
      "metadata": {
        "colab": {
          "base_uri": "https://localhost:8080/"
        },
        "id": "A_T57lR_ToWO",
        "outputId": "7b14565d-436b-4b48-eaa3-1599af260dd5"
      },
      "source": [
        "filename = 'view.jpg'\n",
        "print(filename[-3:])\n",
        "print(filename[5:])"
      ],
      "execution_count": null,
      "outputs": [
        {
          "output_type": "stream",
          "name": "stdout",
          "text": [
            "jpg\n",
            "jpg\n"
          ]
        }
      ]
    },
    {
      "cell_type": "code",
      "metadata": {
        "colab": {
          "base_uri": "https://localhost:8080/"
        },
        "id": "3jsZBzitU55D",
        "outputId": "8ac2b8ac-97ee-42e2-efb5-dd38a0d9dce7"
      },
      "source": [
        "string = '1 0 0 1 0 1'\n",
        "binary = string[::2]\n",
        "number = int(binary, 2)\n",
        "print(f'Number found: {number}')"
      ],
      "execution_count": null,
      "outputs": [
        {
          "output_type": "stream",
          "name": "stdout",
          "text": [
            "Number found: 37\n"
          ]
        }
      ]
    },
    {
      "cell_type": "code",
      "metadata": {
        "colab": {
          "base_uri": "https://localhost:8080/"
        },
        "id": "PpnTFWMxacnl",
        "outputId": "47a09878-5a2e-4b6d-db7c-4acac0a2d4e7"
      },
      "source": [
        "print(binary)"
      ],
      "execution_count": null,
      "outputs": [
        {
          "output_type": "stream",
          "name": "stdout",
          "text": [
            "100101\n"
          ]
        }
      ]
    },
    {
      "cell_type": "code",
      "metadata": {
        "colab": {
          "base_uri": "https://localhost:8080/",
          "height": 35
        },
        "id": "yr2mvYoucUDS",
        "outputId": "8557d438-ffc2-4164-dd0f-a3be92e6ab20"
      },
      "source": [
        "string[::2]"
      ],
      "execution_count": null,
      "outputs": [
        {
          "output_type": "execute_result",
          "data": {
            "application/vnd.google.colaboratory.intrinsic+json": {
              "type": "string"
            },
            "text/plain": [
              "'100101'"
            ]
          },
          "metadata": {},
          "execution_count": 17
        }
      ]
    },
    {
      "cell_type": "code",
      "metadata": {
        "colab": {
          "base_uri": "https://localhost:8080/"
        },
        "id": "SnRzWGijcZmJ",
        "outputId": "8d138aef-fd75-4afa-81f7-fd864d88335e"
      },
      "source": [
        "text = 'Python Course'\n",
        "print (text[::-1 ])"
      ],
      "execution_count": null,
      "outputs": [
        {
          "output_type": "stream",
          "name": "stdout",
          "text": [
            "esruoC nohtyP\n"
          ]
        }
      ]
    },
    {
      "cell_type": "code",
      "metadata": {
        "id": "4YgJAsaYdWax",
        "colab": {
          "base_uri": "https://localhost:8080/"
        },
        "outputId": "dde5fedb-012b-48a3-e16e-1cc3c55069b0"
      },
      "source": [
        "print (text[-1])"
      ],
      "execution_count": null,
      "outputs": [
        {
          "output_type": "stream",
          "name": "stdout",
          "text": [
            "e\n"
          ]
        }
      ]
    },
    {
      "cell_type": "code",
      "metadata": {
        "id": "v6PD079yf9u9",
        "colab": {
          "base_uri": "https://localhost:8080/"
        },
        "outputId": "52e35cee-3070-4578-dbdf-04727f12e79c"
      },
      "source": [
        "print (text[-2:])"
      ],
      "execution_count": null,
      "outputs": [
        {
          "output_type": "stream",
          "name": "stdout",
          "text": [
            "se\n"
          ]
        }
      ]
    },
    {
      "cell_type": "code",
      "metadata": {
        "id": "FxhzBXXlgHJb",
        "colab": {
          "base_uri": "https://localhost:8080/"
        },
        "outputId": "d6eef5ee-65ea-4b9a-c0eb-fa8da1207fcc"
      },
      "source": [
        "print(text[-1:])"
      ],
      "execution_count": null,
      "outputs": [
        {
          "output_type": "stream",
          "name": "stdout",
          "text": [
            "e\n"
          ]
        }
      ]
    },
    {
      "cell_type": "code",
      "metadata": {
        "id": "xrgjUDg-gWxW",
        "colab": {
          "base_uri": "https://localhost:8080/"
        },
        "outputId": "baa5d8b1-6c4d-440b-e874-612628bbcfc8"
      },
      "source": [
        "print(text[:-2])"
      ],
      "execution_count": null,
      "outputs": [
        {
          "output_type": "stream",
          "name": "stdout",
          "text": [
            "Python Cour\n"
          ]
        }
      ]
    },
    {
      "cell_type": "code",
      "metadata": {
        "id": "qirm_OCzhIRt",
        "colab": {
          "base_uri": "https://localhost:8080/"
        },
        "outputId": "a65fa4cd-5b08-4c46-a049-cce182877135"
      },
      "source": [
        "print(text[:2])"
      ],
      "execution_count": null,
      "outputs": [
        {
          "output_type": "stream",
          "name": "stdout",
          "text": [
            "Py\n"
          ]
        }
      ]
    },
    {
      "cell_type": "code",
      "metadata": {
        "id": "e25rkmtPhNPr",
        "colab": {
          "base_uri": "https://localhost:8080/"
        },
        "outputId": "2199de27-4b9b-42db-9f31-07be85f0aeab"
      },
      "source": [
        "print(text[-1]) # last item in the array\n"
      ],
      "execution_count": null,
      "outputs": [
        {
          "output_type": "stream",
          "name": "stdout",
          "text": [
            "e\n"
          ]
        }
      ]
    },
    {
      "cell_type": "code",
      "metadata": {
        "id": "c9ZH6eRPhZp8",
        "colab": {
          "base_uri": "https://localhost:8080/"
        },
        "outputId": "63f70248-45e3-4872-c7b0-1212037b969e"
      },
      "source": [
        "print(text[-2:]) # last two items in the array"
      ],
      "execution_count": null,
      "outputs": [
        {
          "output_type": "stream",
          "name": "stdout",
          "text": [
            "se\n"
          ]
        }
      ]
    },
    {
      "cell_type": "code",
      "metadata": {
        "id": "oPYVkrGLhke-",
        "colab": {
          "base_uri": "https://localhost:8080/"
        },
        "outputId": "62b90fd1-6f20-43d7-ce0d-da64fcb87e20"
      },
      "source": [
        "print(text[:-2]) # everything except the last two items"
      ],
      "execution_count": null,
      "outputs": [
        {
          "output_type": "stream",
          "name": "stdout",
          "text": [
            "Python Cour\n"
          ]
        }
      ]
    },
    {
      "cell_type": "code",
      "metadata": {
        "id": "KPbkC6AchsSv",
        "colab": {
          "base_uri": "https://localhost:8080/"
        },
        "outputId": "96889164-c69c-4196-d92c-5dbda1a40c4a"
      },
      "source": [
        "print(text[::-1]) # all items in the array, reversed"
      ],
      "execution_count": null,
      "outputs": [
        {
          "output_type": "stream",
          "name": "stdout",
          "text": [
            "esruoC nohtyP\n"
          ]
        }
      ]
    },
    {
      "cell_type": "code",
      "metadata": {
        "id": "zp10TY0fh9Py",
        "colab": {
          "base_uri": "https://localhost:8080/"
        },
        "outputId": "05b13f95-2e02-496c-828b-b0dd57b0370e"
      },
      "source": [
        "print(text[1::-1]) # the first two items, reversed"
      ],
      "execution_count": null,
      "outputs": [
        {
          "output_type": "stream",
          "name": "stdout",
          "text": [
            "yP\n"
          ]
        }
      ]
    },
    {
      "cell_type": "code",
      "metadata": {
        "id": "sebbdcYzmHHd",
        "colab": {
          "base_uri": "https://localhost:8080/"
        },
        "outputId": "b648ef47-0198-4ed7-a46f-848066bd49df"
      },
      "source": [
        "print(text[:-3:-1]) # the last two items, reversed"
      ],
      "execution_count": null,
      "outputs": [
        {
          "output_type": "stream",
          "name": "stdout",
          "text": [
            "es\n"
          ]
        }
      ]
    },
    {
      "cell_type": "code",
      "metadata": {
        "id": "KSSDBj2XmfmU",
        "colab": {
          "base_uri": "https://localhost:8080/"
        },
        "outputId": "659ff06d-9363-4516-c14e-abf14d01c3f8"
      },
      "source": [
        "print(text[-3::-1]) # everything except the last two items, reversed"
      ],
      "execution_count": null,
      "outputs": [
        {
          "output_type": "stream",
          "name": "stdout",
          "text": [
            "ruoC nohtyP\n"
          ]
        }
      ]
    },
    {
      "cell_type": "code",
      "metadata": {
        "id": "-U2q6MdOm3WV",
        "colab": {
          "base_uri": "https://localhost:8080/"
        },
        "outputId": "fe6b0b1e-df76-488f-8dd7-03a2592af396"
      },
      "source": [
        "text = 'python is a popular programming language.'\n",
        "print(text.capitalize())"
      ],
      "execution_count": null,
      "outputs": [
        {
          "output_type": "stream",
          "name": "stdout",
          "text": [
            "Python is a popular programming language.\n"
          ]
        }
      ]
    },
    {
      "cell_type": "code",
      "metadata": {
        "id": "7PnqBHRjpATa",
        "outputId": "6a7c608f-6252-4b1c-b8eb-1815f8ebf6d6",
        "colab": {
          "base_uri": "https://localhost:8080/",
          "height": 35
        }
      },
      "source": [
        "code1 = 'FVNISJND-XX-2020'\n",
        "code2 = 'FVNISJND-XY-2019'\n",
        "code1[-4:]"
      ],
      "execution_count": 40,
      "outputs": [
        {
          "output_type": "execute_result",
          "data": {
            "application/vnd.google.colaboratory.intrinsic+json": {
              "type": "string"
            },
            "text/plain": [
              "'2020'"
            ]
          },
          "metadata": {},
          "execution_count": 40
        }
      ]
    },
    {
      "cell_type": "code",
      "metadata": {
        "id": "pfiWrDUtv1wS",
        "outputId": "e626cc0d-cbcf-4506-e1d8-2080e7927b43",
        "colab": {
          "base_uri": "https://localhost:8080/"
        }
      },
      "source": [
        "codes = [code1, code2]\n",
        "for code in codes:\n",
        "  if code[-4:] == '2020':\n",
        "    print(code)"
      ],
      "execution_count": 43,
      "outputs": [
        {
          "output_type": "stream",
          "name": "stdout",
          "text": [
            "FVNISJND-XX-2020\n"
          ]
        }
      ]
    },
    {
      "cell_type": "code",
      "metadata": {
        "id": "yu6qWh7rwP7t",
        "outputId": "26067509-926b-4f67-efaf-cb3e9e733078",
        "colab": {
          "base_uri": "https://localhost:8080/"
        }
      },
      "source": [
        "num = 34\n",
        "print(str(num).zfill(6))\n"
      ],
      "execution_count": 44,
      "outputs": [
        {
          "output_type": "stream",
          "name": "stdout",
          "text": [
            "000034\n"
          ]
        }
      ]
    },
    {
      "cell_type": "code",
      "metadata": {
        "id": "qNaQzgEK1jZ0",
        "outputId": "79e2a9cc-0604-4ff9-e473-2087fb4c6a24",
        "colab": {
          "base_uri": "https://localhost:8080/"
        }
      },
      "source": [
        "url = 'https://e-smartdata.teachable.com/p/sciezka-data-scientist-machine-learning-engineer'\n",
        "name = url.split('/')[-1]\n",
        "name = name.replace('-', ' ')\n",
        "print(name)"
      ],
      "execution_count": 45,
      "outputs": [
        {
          "output_type": "stream",
          "name": "stdout",
          "text": [
            "sciezka data scientist machine learning engineer\n"
          ]
        }
      ]
    },
    {
      "cell_type": "code",
      "metadata": {
        "id": "OB2oufS_2IWF",
        "outputId": "0233f9ae-d016-4361-ff68-42821c50cb42",
        "colab": {
          "base_uri": "https://localhost:8080/"
        }
      },
      "source": [
        "subjects = {'mathematics', 'biology'}\n",
        "subjects.add('english')\n",
        "print(subjects)"
      ],
      "execution_count": 46,
      "outputs": [
        {
          "output_type": "stream",
          "name": "stdout",
          "text": [
            "{'english', 'mathematics', 'biology'}\n"
          ]
        }
      ]
    },
    {
      "cell_type": "code",
      "metadata": {
        "id": "S0b7w9bZ2kiQ",
        "outputId": "ed70ff40-0471-4c40-a29d-206f834934c9",
        "colab": {
          "base_uri": "https://localhost:8080/"
        }
      },
      "source": [
        "text = 'Programming in python.'\n",
        "vowels = {'a', 'e', 'i', 'o', 'u'}\n",
        "text = text.lower()\n",
        "print(text)"
      ],
      "execution_count": 48,
      "outputs": [
        {
          "output_type": "stream",
          "name": "stdout",
          "text": [
            "programming in python.\n"
          ]
        }
      ]
    },
    {
      "cell_type": "code",
      "metadata": {
        "id": "3KG1aucu25MS",
        "outputId": "96f0ab3e-0f79-42d7-ddc8-4b52e19c566d",
        "colab": {
          "base_uri": "https://localhost:8080/"
        }
      },
      "source": [
        "text = text.replace(' ', '')\n",
        "text = text.replace('.', '')\n",
        "vowels = {'a', 'e', 'i', 'o', 'u'}\n",
        "letters = set(text)\n",
        "consonants = letters.difference(vowels)\n",
        "print(f'Number of items: {len(consonants)}')\n",
        "print(text) "
      ],
      "execution_count": 50,
      "outputs": [
        {
          "output_type": "stream",
          "name": "stdout",
          "text": [
            "Number of items: 8\n",
            "programminginpython\n"
          ]
        }
      ]
    },
    {
      "cell_type": "code",
      "metadata": {
        "id": "Yqu1qXVx3Snd"
      },
      "source": [
        ""
      ],
      "execution_count": null,
      "outputs": []
    }
  ]
}