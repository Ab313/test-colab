{
  "nbformat": 4,
  "nbformat_minor": 0,
  "metadata": {
    "colab": {
      "name": "Intro.ipynb",
      "provenance": [],
      "collapsed_sections": [],
      "authorship_tag": "ABX9TyOZaRNfweScfyWyR6mj4lGG",
      "include_colab_link": true
    },
    "kernelspec": {
      "name": "python3",
      "display_name": "Python 3"
    },
    "language_info": {
      "name": "python"
    }
  },
  "cells": [
    {
      "cell_type": "markdown",
      "metadata": {
        "id": "view-in-github",
        "colab_type": "text"
      },
      "source": [
        "<a href=\"https://colab.research.google.com/github/Ab313/test-colab/blob/master/template.ipynb\" target=\"_parent\"><img src=\"https://colab.research.google.com/assets/colab-badge.svg\" alt=\"Open In Colab\"/></a>"
      ]
    },
    {
      "cell_type": "markdown",
      "metadata": {
        "id": "gMtVh0JhJeCw"
      },
      "source": [
        "##Sales\n"
      ]
    },
    {
      "cell_type": "code",
      "metadata": {
        "colab": {
          "base_uri": "https://localhost:8080/"
        },
        "id": "IT7_anYnI1Ow",
        "outputId": "d3985994-532b-4504-b9f9-6ce764b111b5"
      },
      "source": [
        "revenue = 10000\n",
        "tax = 0.19\n",
        "income = revenue * tax\n",
        "income"
      ],
      "execution_count": null,
      "outputs": [
        {
          "output_type": "execute_result",
          "data": {
            "text/plain": [
              "1900.0"
            ]
          },
          "metadata": {},
          "execution_count": 5
        }
      ]
    },
    {
      "cell_type": "markdown",
      "metadata": {
        "id": "wbGJ3v_VJpkF"
      },
      "source": [
        "##Summary"
      ]
    },
    {
      "cell_type": "code",
      "metadata": {
        "colab": {
          "base_uri": "https://localhost:8080/",
          "height": 35
        },
        "id": "YLA5GUYeJ89Q",
        "outputId": "d1038b60-455c-4e23-975c-3aa98632fd74"
      },
      "source": [
        "import numpy as np\n",
        "np.__version__"
      ],
      "execution_count": null,
      "outputs": [
        {
          "output_type": "execute_result",
          "data": {
            "application/vnd.google.colaboratory.intrinsic+json": {
              "type": "string"
            },
            "text/plain": [
              "'1.19.5'"
            ]
          },
          "metadata": {},
          "execution_count": 7
        }
      ]
    },
    {
      "cell_type": "code",
      "metadata": {
        "id": "4_CiwCrHM7Kw"
      },
      "source": [
        "import imageai"
      ],
      "execution_count": null,
      "outputs": []
    },
    {
      "cell_type": "markdown",
      "metadata": {
        "id": "eLpzcKXHNIiE"
      },
      "source": [
        "##Markdown"
      ]
    },
    {
      "cell_type": "markdown",
      "metadata": {
        "id": "g58CqNk9OJ3J"
      },
      "source": [
        "\n",
        "Example of *markdown*\n",
        "\n",
        "Example of **markdown**\n",
        "\n",
        "Example of __markdown__\n",
        "\n",
        "Example of `markdown`\n",
        "\n",
        "```\n",
        "Example of markdown\n",
        "```\n",
        "\n",
        "\n",
        ">Python\n",
        ">>>Python\n",
        "\n",
        "An ordered list:\n",
        "1. One\n",
        "2. Two\n",
        "3. Three\n",
        "\n",
        "An unordered list:\n",
        "* One\n",
        "* Two\n",
        "* Three\n",
        "\n"
      ]
    },
    {
      "cell_type": "markdown",
      "metadata": {
        "id": "N8w_5WQjQE9q"
      },
      "source": [
        "\n",
        "[Google](https://www.google.com)"
      ]
    },
    {
      "cell_type": "markdown",
      "metadata": {
        "id": "9Fqzju7bQi73"
      },
      "source": [
        "$y = x^2$\n"
      ]
    },
    {
      "cell_type": "code",
      "metadata": {
        "colab": {
          "base_uri": "https://localhost:8080/"
        },
        "id": "zABBA25FPvFY",
        "outputId": "799974c6-e312-4ba2-9ad2-bec0bcdd2e05"
      },
      "source": [
        "lang = 'Python'\n",
        "version = '3.8'\n",
        "print(f'I am learning {lang} version {version}')"
      ],
      "execution_count": null,
      "outputs": [
        {
          "output_type": "stream",
          "name": "stdout",
          "text": [
            "I am learning Python version 3.8\n"
          ]
        }
      ]
    },
    {
      "cell_type": "code",
      "metadata": {
        "colab": {
          "base_uri": "https://localhost:8080/"
        },
        "id": "A_T57lR_ToWO",
        "outputId": "7b14565d-436b-4b48-eaa3-1599af260dd5"
      },
      "source": [
        "filename = 'view.jpg'\n",
        "print(filename[-3:])\n",
        "print(filename[5:])"
      ],
      "execution_count": null,
      "outputs": [
        {
          "output_type": "stream",
          "name": "stdout",
          "text": [
            "jpg\n",
            "jpg\n"
          ]
        }
      ]
    },
    {
      "cell_type": "code",
      "metadata": {
        "colab": {
          "base_uri": "https://localhost:8080/"
        },
        "id": "3jsZBzitU55D",
        "outputId": "8ac2b8ac-97ee-42e2-efb5-dd38a0d9dce7"
      },
      "source": [
        "string = '1 0 0 1 0 1'\n",
        "binary = string[::2]\n",
        "number = int(binary, 2)\n",
        "print(f'Number found: {number}')"
      ],
      "execution_count": null,
      "outputs": [
        {
          "output_type": "stream",
          "name": "stdout",
          "text": [
            "Number found: 37\n"
          ]
        }
      ]
    },
    {
      "cell_type": "code",
      "metadata": {
        "colab": {
          "base_uri": "https://localhost:8080/"
        },
        "id": "PpnTFWMxacnl",
        "outputId": "47a09878-5a2e-4b6d-db7c-4acac0a2d4e7"
      },
      "source": [
        "print(binary)"
      ],
      "execution_count": null,
      "outputs": [
        {
          "output_type": "stream",
          "name": "stdout",
          "text": [
            "100101\n"
          ]
        }
      ]
    },
    {
      "cell_type": "code",
      "metadata": {
        "colab": {
          "base_uri": "https://localhost:8080/",
          "height": 35
        },
        "id": "yr2mvYoucUDS",
        "outputId": "8557d438-ffc2-4164-dd0f-a3be92e6ab20"
      },
      "source": [
        "string[::2]"
      ],
      "execution_count": null,
      "outputs": [
        {
          "output_type": "execute_result",
          "data": {
            "application/vnd.google.colaboratory.intrinsic+json": {
              "type": "string"
            },
            "text/plain": [
              "'100101'"
            ]
          },
          "metadata": {},
          "execution_count": 17
        }
      ]
    },
    {
      "cell_type": "code",
      "metadata": {
        "colab": {
          "base_uri": "https://localhost:8080/"
        },
        "id": "SnRzWGijcZmJ",
        "outputId": "8d138aef-fd75-4afa-81f7-fd864d88335e"
      },
      "source": [
        "text = 'Python Course'\n",
        "print (text[::-1 ])"
      ],
      "execution_count": null,
      "outputs": [
        {
          "output_type": "stream",
          "name": "stdout",
          "text": [
            "esruoC nohtyP\n"
          ]
        }
      ]
    },
    {
      "cell_type": "code",
      "metadata": {
        "id": "4YgJAsaYdWax",
        "colab": {
          "base_uri": "https://localhost:8080/"
        },
        "outputId": "dde5fedb-012b-48a3-e16e-1cc3c55069b0"
      },
      "source": [
        "print (text[-1])"
      ],
      "execution_count": null,
      "outputs": [
        {
          "output_type": "stream",
          "name": "stdout",
          "text": [
            "e\n"
          ]
        }
      ]
    },
    {
      "cell_type": "code",
      "metadata": {
        "id": "v6PD079yf9u9",
        "colab": {
          "base_uri": "https://localhost:8080/"
        },
        "outputId": "52e35cee-3070-4578-dbdf-04727f12e79c"
      },
      "source": [
        "print (text[-2:])"
      ],
      "execution_count": null,
      "outputs": [
        {
          "output_type": "stream",
          "name": "stdout",
          "text": [
            "se\n"
          ]
        }
      ]
    },
    {
      "cell_type": "code",
      "metadata": {
        "id": "FxhzBXXlgHJb",
        "colab": {
          "base_uri": "https://localhost:8080/"
        },
        "outputId": "d6eef5ee-65ea-4b9a-c0eb-fa8da1207fcc"
      },
      "source": [
        "print(text[-1:])"
      ],
      "execution_count": null,
      "outputs": [
        {
          "output_type": "stream",
          "name": "stdout",
          "text": [
            "e\n"
          ]
        }
      ]
    },
    {
      "cell_type": "code",
      "metadata": {
        "id": "xrgjUDg-gWxW",
        "colab": {
          "base_uri": "https://localhost:8080/"
        },
        "outputId": "baa5d8b1-6c4d-440b-e874-612628bbcfc8"
      },
      "source": [
        "print(text[:-2])"
      ],
      "execution_count": null,
      "outputs": [
        {
          "output_type": "stream",
          "name": "stdout",
          "text": [
            "Python Cour\n"
          ]
        }
      ]
    },
    {
      "cell_type": "code",
      "metadata": {
        "id": "qirm_OCzhIRt",
        "colab": {
          "base_uri": "https://localhost:8080/"
        },
        "outputId": "a65fa4cd-5b08-4c46-a049-cce182877135"
      },
      "source": [
        "print(text[:2])"
      ],
      "execution_count": null,
      "outputs": [
        {
          "output_type": "stream",
          "name": "stdout",
          "text": [
            "Py\n"
          ]
        }
      ]
    },
    {
      "cell_type": "code",
      "metadata": {
        "id": "e25rkmtPhNPr",
        "colab": {
          "base_uri": "https://localhost:8080/"
        },
        "outputId": "2199de27-4b9b-42db-9f31-07be85f0aeab"
      },
      "source": [
        "print(text[-1]) # last item in the array\n"
      ],
      "execution_count": null,
      "outputs": [
        {
          "output_type": "stream",
          "name": "stdout",
          "text": [
            "e\n"
          ]
        }
      ]
    },
    {
      "cell_type": "code",
      "metadata": {
        "id": "c9ZH6eRPhZp8",
        "colab": {
          "base_uri": "https://localhost:8080/"
        },
        "outputId": "63f70248-45e3-4872-c7b0-1212037b969e"
      },
      "source": [
        "print(text[-2:]) # last two items in the array"
      ],
      "execution_count": null,
      "outputs": [
        {
          "output_type": "stream",
          "name": "stdout",
          "text": [
            "se\n"
          ]
        }
      ]
    },
    {
      "cell_type": "code",
      "metadata": {
        "id": "oPYVkrGLhke-",
        "colab": {
          "base_uri": "https://localhost:8080/"
        },
        "outputId": "62b90fd1-6f20-43d7-ce0d-da64fcb87e20"
      },
      "source": [
        "print(text[:-2]) # everything except the last two items"
      ],
      "execution_count": null,
      "outputs": [
        {
          "output_type": "stream",
          "name": "stdout",
          "text": [
            "Python Cour\n"
          ]
        }
      ]
    },
    {
      "cell_type": "code",
      "metadata": {
        "id": "KPbkC6AchsSv",
        "colab": {
          "base_uri": "https://localhost:8080/"
        },
        "outputId": "96889164-c69c-4196-d92c-5dbda1a40c4a"
      },
      "source": [
        "print(text[::-1]) # all items in the array, reversed"
      ],
      "execution_count": null,
      "outputs": [
        {
          "output_type": "stream",
          "name": "stdout",
          "text": [
            "esruoC nohtyP\n"
          ]
        }
      ]
    },
    {
      "cell_type": "code",
      "metadata": {
        "id": "zp10TY0fh9Py",
        "colab": {
          "base_uri": "https://localhost:8080/"
        },
        "outputId": "05b13f95-2e02-496c-828b-b0dd57b0370e"
      },
      "source": [
        "print(text[1::-1]) # the first two items, reversed"
      ],
      "execution_count": null,
      "outputs": [
        {
          "output_type": "stream",
          "name": "stdout",
          "text": [
            "yP\n"
          ]
        }
      ]
    },
    {
      "cell_type": "code",
      "metadata": {
        "id": "sebbdcYzmHHd",
        "colab": {
          "base_uri": "https://localhost:8080/"
        },
        "outputId": "b648ef47-0198-4ed7-a46f-848066bd49df"
      },
      "source": [
        "print(text[:-3:-1]) # the last two items, reversed"
      ],
      "execution_count": null,
      "outputs": [
        {
          "output_type": "stream",
          "name": "stdout",
          "text": [
            "es\n"
          ]
        }
      ]
    },
    {
      "cell_type": "code",
      "metadata": {
        "id": "KSSDBj2XmfmU",
        "colab": {
          "base_uri": "https://localhost:8080/"
        },
        "outputId": "659ff06d-9363-4516-c14e-abf14d01c3f8"
      },
      "source": [
        "print(text[-3::-1]) # everything except the last two items, reversed"
      ],
      "execution_count": null,
      "outputs": [
        {
          "output_type": "stream",
          "name": "stdout",
          "text": [
            "ruoC nohtyP\n"
          ]
        }
      ]
    },
    {
      "cell_type": "code",
      "metadata": {
        "id": "-U2q6MdOm3WV",
        "colab": {
          "base_uri": "https://localhost:8080/"
        },
        "outputId": "fe6b0b1e-df76-488f-8dd7-03a2592af396"
      },
      "source": [
        "text = 'python is a popular programming language.'\n",
        "print(text.capitalize())"
      ],
      "execution_count": null,
      "outputs": [
        {
          "output_type": "stream",
          "name": "stdout",
          "text": [
            "Python is a popular programming language.\n"
          ]
        }
      ]
    },
    {
      "cell_type": "code",
      "metadata": {
        "id": "7PnqBHRjpATa",
        "colab": {
          "base_uri": "https://localhost:8080/",
          "height": 35
        },
        "outputId": "6a7c608f-6252-4b1c-b8eb-1815f8ebf6d6"
      },
      "source": [
        "code1 = 'FVNISJND-XX-2020'\n",
        "code2 = 'FVNISJND-XY-2019'\n",
        "code1[-4:]"
      ],
      "execution_count": null,
      "outputs": [
        {
          "output_type": "execute_result",
          "data": {
            "application/vnd.google.colaboratory.intrinsic+json": {
              "type": "string"
            },
            "text/plain": [
              "'2020'"
            ]
          },
          "metadata": {},
          "execution_count": 40
        }
      ]
    },
    {
      "cell_type": "code",
      "metadata": {
        "colab": {
          "base_uri": "https://localhost:8080/"
        },
        "id": "pfiWrDUtv1wS",
        "outputId": "e626cc0d-cbcf-4506-e1d8-2080e7927b43"
      },
      "source": [
        "codes = [code1, code2]\n",
        "for code in codes:\n",
        "  if code[-4:] == '2020':\n",
        "    print(code)"
      ],
      "execution_count": null,
      "outputs": [
        {
          "output_type": "stream",
          "name": "stdout",
          "text": [
            "FVNISJND-XX-2020\n"
          ]
        }
      ]
    },
    {
      "cell_type": "code",
      "metadata": {
        "colab": {
          "base_uri": "https://localhost:8080/"
        },
        "id": "yu6qWh7rwP7t",
        "outputId": "26067509-926b-4f67-efaf-cb3e9e733078"
      },
      "source": [
        "num = 34\n",
        "print(str(num).zfill(6))\n"
      ],
      "execution_count": null,
      "outputs": [
        {
          "output_type": "stream",
          "name": "stdout",
          "text": [
            "000034\n"
          ]
        }
      ]
    },
    {
      "cell_type": "code",
      "metadata": {
        "colab": {
          "base_uri": "https://localhost:8080/"
        },
        "id": "qNaQzgEK1jZ0",
        "outputId": "79e2a9cc-0604-4ff9-e473-2087fb4c6a24"
      },
      "source": [
        "url = 'https://e-smartdata.teachable.com/p/sciezka-data-scientist-machine-learning-engineer'\n",
        "name = url.split('/')[-1]\n",
        "name = name.replace('-', ' ')\n",
        "print(name)"
      ],
      "execution_count": null,
      "outputs": [
        {
          "output_type": "stream",
          "name": "stdout",
          "text": [
            "sciezka data scientist machine learning engineer\n"
          ]
        }
      ]
    },
    {
      "cell_type": "code",
      "metadata": {
        "colab": {
          "base_uri": "https://localhost:8080/"
        },
        "id": "OB2oufS_2IWF",
        "outputId": "0233f9ae-d016-4361-ff68-42821c50cb42"
      },
      "source": [
        "subjects = {'mathematics', 'biology'}\n",
        "subjects.add('english')\n",
        "print(subjects)"
      ],
      "execution_count": null,
      "outputs": [
        {
          "output_type": "stream",
          "name": "stdout",
          "text": [
            "{'english', 'mathematics', 'biology'}\n"
          ]
        }
      ]
    },
    {
      "cell_type": "code",
      "metadata": {
        "colab": {
          "base_uri": "https://localhost:8080/"
        },
        "id": "S0b7w9bZ2kiQ",
        "outputId": "ed70ff40-0471-4c40-a29d-206f834934c9"
      },
      "source": [
        "text = 'Programming in python.'\n",
        "vowels = {'a', 'e', 'i', 'o', 'u'}\n",
        "text = text.lower()\n",
        "print(text)"
      ],
      "execution_count": null,
      "outputs": [
        {
          "output_type": "stream",
          "name": "stdout",
          "text": [
            "programming in python.\n"
          ]
        }
      ]
    },
    {
      "cell_type": "code",
      "metadata": {
        "colab": {
          "base_uri": "https://localhost:8080/"
        },
        "id": "3KG1aucu25MS",
        "outputId": "96f0ab3e-0f79-42d7-ddc8-4b52e19c566d"
      },
      "source": [
        "text = text.replace(' ', '')\n",
        "text = text.replace('.', '')\n",
        "vowels = {'a', 'e', 'i', 'o', 'u'}\n",
        "letters = set(text)\n",
        "consonants = letters.difference(vowels)\n",
        "print(f'Number of items: {len(consonants)}')\n",
        "print(text) "
      ],
      "execution_count": null,
      "outputs": [
        {
          "output_type": "stream",
          "name": "stdout",
          "text": [
            "Number of items: 8\n",
            "programminginpython\n"
          ]
        }
      ]
    },
    {
      "cell_type": "code",
      "metadata": {
        "colab": {
          "base_uri": "https://localhost:8080/"
        },
        "id": "Yqu1qXVx3Snd",
        "outputId": "2c7f79fb-52af-4719-d564-3226f4671be7"
      },
      "source": [
        "A = {2, 4, 6, 8}\n",
        "B = {4, 10}\n",
        "sym_diff = A.symmetric_difference(B)\n",
        "print(f'Symmetric difference: {sym_diff}')"
      ],
      "execution_count": null,
      "outputs": [
        {
          "output_type": "stream",
          "name": "stdout",
          "text": [
            "Symmetric difference: {2, 6, 8, 10}\n"
          ]
        }
      ]
    },
    {
      "cell_type": "code",
      "metadata": {
        "colab": {
          "base_uri": "https://localhost:8080/"
        },
        "id": "EnofGVIE5KRv",
        "outputId": "961795d9-ec23-4962-b919-66b71d4beb6e"
      },
      "source": [
        "ad1_id = {'001', '002', '003'}\n",
        "ad2_id = {'002', '003', '007'}\n",
        "result = ad1_id.symmetric_difference(ad2_id)\n",
        "print(f'Selected ID: {result}')"
      ],
      "execution_count": null,
      "outputs": [
        {
          "output_type": "stream",
          "name": "stdout",
          "text": [
            "Selected ID: {'007', '001'}\n"
          ]
        }
      ]
    },
    {
      "cell_type": "code",
      "metadata": {
        "colab": {
          "base_uri": "https://localhost:8080/"
        },
        "id": "Vt0P-LRG6Nxd",
        "outputId": "1c7d212d-ad0f-49af-feab-c6a0da281375"
      },
      "source": [
        "is_clicked = {'9001', '9002', '9005'}\n",
        "is_bought = {'9002', '9004', '9005'}\n",
        "result = is_clicked.intersection(is_bought)\n",
        "print(f'Customer ID: {result}')"
      ],
      "execution_count": null,
      "outputs": [
        {
          "output_type": "stream",
          "name": "stdout",
          "text": [
            "Customer ID: {'9002', '9005'}\n"
          ]
        }
      ]
    },
    {
      "cell_type": "code",
      "metadata": {
        "colab": {
          "base_uri": "https://localhost:8080/"
        },
        "id": "LfiLryJS6rNo",
        "outputId": "767b3960-f9e5-4f69-95f9-d32668fc63b4"
      },
      "source": [
        "dji1 = ('AAPL.US', 'IBM.US', 'MSFT.US')\n",
        "dji2 = ('HD.US', 'GS.US', 'NKE.US')\n",
        "result = dji1 + dji2\n",
        "print(result)"
      ],
      "execution_count": null,
      "outputs": [
        {
          "output_type": "stream",
          "name": "stdout",
          "text": [
            "('AAPL.US', 'IBM.US', 'MSFT.US', 'HD.US', 'GS.US', 'NKE.US')\n"
          ]
        }
      ]
    },
    {
      "cell_type": "code",
      "metadata": {
        "id": "TmWNwGthE7Sm"
      },
      "source": [
        "result = (dji1, dji2)"
      ],
      "execution_count": null,
      "outputs": []
    },
    {
      "cell_type": "code",
      "metadata": {
        "colab": {
          "base_uri": "https://localhost:8080/"
        },
        "id": "pedoviZVGKt3",
        "outputId": "84702247-439f-4f1b-b19c-65304d8509ad"
      },
      "source": [
        "print(result)"
      ],
      "execution_count": null,
      "outputs": [
        {
          "output_type": "stream",
          "name": "stdout",
          "text": [
            "(('AAPL.US', 'IBM.US', 'MSFT.US'), ('HD.US', 'GS.US', 'NKE.US'))\n"
          ]
        }
      ]
    },
    {
      "cell_type": "code",
      "metadata": {
        "id": "a-zMn4DPGNem"
      },
      "source": [
        "members = (('Kate', 23), ('Tom', 19))\n",
        "result = (members[0], ('John', 26), members[1])"
      ],
      "execution_count": null,
      "outputs": []
    },
    {
      "cell_type": "code",
      "metadata": {
        "colab": {
          "base_uri": "https://localhost:8080/"
        },
        "id": "OVjL6IzMJc4R",
        "outputId": "7142b25e-7c22-40fe-bb02-b8135497f1f7"
      },
      "source": [
        "print(result)"
      ],
      "execution_count": null,
      "outputs": [
        {
          "output_type": "stream",
          "name": "stdout",
          "text": [
            "(('Kate', 23), ('John', 26), ('Tom', 19))\n"
          ]
        }
      ]
    },
    {
      "cell_type": "code",
      "metadata": {
        "colab": {
          "base_uri": "https://localhost:8080/"
        },
        "id": "i6VrNMgJJkwd",
        "outputId": "5859080d-61f1-4025-fed3-5ff25d1ac717"
      },
      "source": [
        "default = ('YES', 'NO', 'NO', 'YES', 'NO')\n",
        "print(default.count('YES'))"
      ],
      "execution_count": null,
      "outputs": [
        {
          "output_type": "stream",
          "name": "stdout",
          "text": [
            "2\n"
          ]
        }
      ]
    },
    {
      "cell_type": "code",
      "metadata": {
        "id": "6snSq5wuKQIB"
      },
      "source": [
        "names =('Monica', 'Tom', 'John','Michael')\n",
        "result = tuple(sorted(names))"
      ],
      "execution_count": null,
      "outputs": []
    },
    {
      "cell_type": "code",
      "metadata": {
        "colab": {
          "base_uri": "https://localhost:8080/"
        },
        "id": "BV3Qxia5VloS",
        "outputId": "8bcc3df4-d316-4191-bf24-84344b1fbd8c"
      },
      "source": [
        "print(result)"
      ],
      "execution_count": null,
      "outputs": [
        {
          "output_type": "stream",
          "name": "stdout",
          "text": [
            "('John', 'Michael', 'Monica', 'Tom')\n"
          ]
        }
      ]
    },
    {
      "cell_type": "code",
      "metadata": {
        "colab": {
          "base_uri": "https://localhost:8080/"
        },
        "id": "8_Spkzb3VpSz",
        "outputId": "797d53d7-5e26-44a7-c5dd-9e07252b7be0"
      },
      "source": [
        "print(tuple(sorted(names)))"
      ],
      "execution_count": null,
      "outputs": [
        {
          "output_type": "stream",
          "name": "stdout",
          "text": [
            "('John', 'Michael', 'Monica', 'Tom')\n"
          ]
        }
      ]
    },
    {
      "cell_type": "code",
      "metadata": {
        "colab": {
          "base_uri": "https://localhost:8080/"
        },
        "id": "T4vuKPY6WFo3",
        "outputId": "036595d8-3fc5-4031-debe-7c77a693d66b"
      },
      "source": [
        "print(sorted(names))"
      ],
      "execution_count": null,
      "outputs": [
        {
          "output_type": "stream",
          "name": "stdout",
          "text": [
            "['John', 'Michael', 'Monica', 'Tom']\n"
          ]
        }
      ]
    },
    {
      "cell_type": "code",
      "metadata": {
        "id": "npM99DktWKEN"
      },
      "source": [
        "info = (('Monica', 19), ('Tom', 21), ('John', 18))\n",
        "asc = tuple(sorted(info, key=lambda item: item[1]))\n",
        "desc = tuple(sorted(info, key=lambda item: item[1], reverse=True))"
      ],
      "execution_count": null,
      "outputs": []
    },
    {
      "cell_type": "markdown",
      "metadata": {
        "id": "jxgrvgXUa4OP"
      },
      "source": [
        ""
      ]
    },
    {
      "cell_type": "code",
      "metadata": {
        "colab": {
          "base_uri": "https://localhost:8080/"
        },
        "id": "CYG_WTHmZqqW",
        "outputId": "3bbd5f20-cf1b-460a-a7a8-fd3364a27ca7"
      },
      "source": [
        "print(asc)\n",
        "print(desc)"
      ],
      "execution_count": null,
      "outputs": [
        {
          "output_type": "stream",
          "name": "stdout",
          "text": [
            "(('John', 18), ('Monica', 19), ('Tom', 21))\n",
            "(('Tom', 21), ('Monica', 19), ('John', 18))\n"
          ]
        }
      ]
    },
    {
      "cell_type": "code",
      "metadata": {
        "colab": {
          "base_uri": "https://localhost:8080/"
        },
        "id": "-AiRkPb4ZsOj",
        "outputId": "fca08cce-42af-45b4-d045-8e1c67e21f1a"
      },
      "source": [
        "stocks = (('Apple Inc', ('AAPL.US', 310)), ('Microsoft Corp', ('MSFT.US', 184)))\n",
        "print(stocks[0][1][0])"
      ],
      "execution_count": null,
      "outputs": [
        {
          "output_type": "stream",
          "name": "stdout",
          "text": [
            "AAPL.US\n"
          ]
        }
      ]
    },
    {
      "cell_type": "code",
      "metadata": {
        "colab": {
          "base_uri": "https://localhost:8080/"
        },
        "id": "--qR80Psa8ZE",
        "outputId": "4c6a5faa-03c2-4c21-ba62-253258698939"
      },
      "source": [
        "cities = ['Los Angeles', 'New York', 'Chicago']\n",
        "cities.append('Houston')\n",
        "print(cities)"
      ],
      "execution_count": null,
      "outputs": [
        {
          "output_type": "stream",
          "name": "stdout",
          "text": [
            "['Los Angeles', 'New York', 'Chicago', 'Houston']\n"
          ]
        }
      ]
    },
    {
      "cell_type": "code",
      "metadata": {
        "colab": {
          "base_uri": "https://localhost:8080/"
        },
        "id": "VLCKNnjpbKtl",
        "outputId": "16b3bfc4-723f-452f-f4ce-228a1ebc72b1"
      },
      "source": [
        "idx = ['001', '002', '001', '003', '001']\n",
        "print(f\"Ocurrence of 001={idx.count('001')}\")"
      ],
      "execution_count": null,
      "outputs": [
        {
          "output_type": "stream",
          "name": "stdout",
          "text": [
            "Ocurrence of 001=3\n"
          ]
        }
      ]
    },
    {
      "cell_type": "code",
      "metadata": {
        "colab": {
          "base_uri": "https://localhost:8080/"
        },
        "id": "KxouEueDbdq9",
        "outputId": "50cfe7f1-57e0-4f57-bf86-76504c22afd8"
      },
      "source": [
        "text = 'Python programming'\n",
        "text = text.lower()\n",
        "text = text.replace(' ', '')\n",
        "result = list(set(text))\n",
        "print(sorted(result))\n",
        "result.sort()\n",
        "print(result)"
      ],
      "execution_count": null,
      "outputs": [
        {
          "output_type": "stream",
          "name": "stdout",
          "text": [
            "['a', 'g', 'h', 'i', 'm', 'n', 'o', 'p', 'r', 't', 'y']\n",
            "['a', 'g', 'h', 'i', 'm', 'n', 'o', 'p', 'r', 't', 'y']\n"
          ]
        }
      ]
    },
    {
      "cell_type": "code",
      "metadata": {
        "id": "NGpgvGhGcRhZ",
        "colab": {
          "base_uri": "https://localhost:8080/"
        },
        "outputId": "7854b93f-6343-4c94-df53-8fdd5e87bb6c"
      },
      "source": [
        "text = 'Python programming'\n",
        "text = text.lower()\n",
        "characters = list(set(text))\n",
        "characters.remove(' ')\n",
        "characters.sort()\n",
        "print(characters)"
      ],
      "execution_count": null,
      "outputs": [
        {
          "output_type": "stream",
          "name": "stdout",
          "text": [
            "['a', 'g', 'h', 'i', 'm', 'n', 'o', 'p', 'r', 't', 'y']\n"
          ]
        }
      ]
    },
    {
      "cell_type": "code",
      "metadata": {
        "id": "pDW9mxjLcZBX",
        "colab": {
          "base_uri": "https://localhost:8080/"
        },
        "outputId": "3030fb5e-e9ba-4c99-fb48-56173604e236"
      },
      "source": [
        "filenames = ['view.jpg', 'bear.jpg', 'ball.png']\n",
        "filenames.insert(0,'phone.jpg')\n",
        "filenames.remove('ball.png')\n",
        "print(filenames)"
      ],
      "execution_count": null,
      "outputs": [
        {
          "output_type": "stream",
          "name": "stdout",
          "text": [
            "['phone.jpg', 'view.jpg', 'bear.jpg']\n"
          ]
        }
      ]
    },
    {
      "cell_type": "code",
      "metadata": {
        "id": "xFX1ObPGfBzx"
      },
      "source": [
        "day1 = ['3984', '9042', '4829', '2380']\n",
        "day2 = ['4231', '5234', '1345', '2455']\n",
        "#result = list(tuple(day1)+tuple(day2))\n",
        "day1.extend(day2)"
      ],
      "execution_count": 59,
      "outputs": []
    },
    {
      "cell_type": "code",
      "metadata": {
        "id": "YFuxYsUbgfS1",
        "colab": {
          "base_uri": "https://localhost:8080/"
        },
        "outputId": "66010e98-e193-4364-8741-1bcb16a66d98"
      },
      "source": [
        "print(day1)"
      ],
      "execution_count": 60,
      "outputs": [
        {
          "output_type": "stream",
          "name": "stdout",
          "text": [
            "['3984', '9042', '4829', '2380', '4231', '5234', '1345', '2455']\n"
          ]
        }
      ]
    },
    {
      "cell_type": "code",
      "metadata": {
        "id": "kcspYj7ggmtH",
        "colab": {
          "base_uri": "https://localhost:8080/"
        },
        "outputId": "c7ba70d8-bc7e-4e03-86df-c2edf33e7c76"
      },
      "source": [
        "techs = ('python', 'java', 'sql', 'aws')\n",
        "print(tuple(sorted(techs)))"
      ],
      "execution_count": 63,
      "outputs": [
        {
          "output_type": "stream",
          "name": "stdout",
          "text": [
            "('aws', 'java', 'python', 'sql')\n"
          ]
        }
      ]
    },
    {
      "cell_type": "code",
      "metadata": {
        "id": "aMPkh2LPhWQA",
        "outputId": "10ba20fb-c17c-4e36-cbd3-b1afa6232a26",
        "colab": {
          "base_uri": "https://localhost:8080/"
        }
      },
      "source": [
        "hashtags = ['summer', 'time', 'vibes']\n",
        "print('#'+'#'.join(hashtags))"
      ],
      "execution_count": 70,
      "outputs": [
        {
          "output_type": "stream",
          "name": "stdout",
          "text": [
            "#summer#time#vibes\n"
          ]
        }
      ]
    },
    {
      "cell_type": "code",
      "metadata": {
        "id": "RzRi0BvXio_q",
        "outputId": "da6209b4-bffe-488a-bfab-1a5bc16a5402",
        "colab": {
          "base_uri": "https://localhost:8080/"
        }
      },
      "source": [
        "capitals = {'USA':'Washington', 'Germany':'Berlin', 'Austria':'Vienna'}\n",
        "print(capitals)"
      ],
      "execution_count": 72,
      "outputs": [
        {
          "output_type": "stream",
          "name": "stdout",
          "text": [
            "{'USA': 'Washington', 'Germany': 'Berlin', 'Austria': 'Vienna'}\n"
          ]
        }
      ]
    },
    {
      "cell_type": "code",
      "metadata": {
        "id": "uha1Pizrmvbs",
        "outputId": "2f12bcce-7097-4d88-9180-815df68886e4",
        "colab": {
          "base_uri": "https://localhost:8080/"
        }
      },
      "source": [
        "print(capitals.keys())"
      ],
      "execution_count": 73,
      "outputs": [
        {
          "output_type": "stream",
          "name": "stdout",
          "text": [
            "dict_keys(['USA', 'Germany', 'Austria'])\n"
          ]
        }
      ]
    },
    {
      "cell_type": "code",
      "metadata": {
        "id": "pI237yOIngIa",
        "outputId": "d2df548b-fefb-4c33-d632-7091bc93720c",
        "colab": {
          "base_uri": "https://localhost:8080/"
        }
      },
      "source": [
        "print(capitals.items())"
      ],
      "execution_count": 74,
      "outputs": [
        {
          "output_type": "stream",
          "name": "stdout",
          "text": [
            "dict_items([('USA', 'Washington'), ('Germany', 'Berlin'), ('Austria', 'Vienna')])\n"
          ]
        }
      ]
    },
    {
      "cell_type": "code",
      "metadata": {
        "id": "-qJhAUG_n6Z5",
        "outputId": "a16045ff-988d-41fc-f182-d39f73c12486",
        "colab": {
          "base_uri": "https://localhost:8080/"
        }
      },
      "source": [
        "print(capitals.get('Austria'))"
      ],
      "execution_count": 75,
      "outputs": [
        {
          "output_type": "stream",
          "name": "stdout",
          "text": [
            "Vienna\n"
          ]
        }
      ]
    },
    {
      "cell_type": "code",
      "metadata": {
        "id": "YJO7stUnoGAA",
        "outputId": "f1987d57-f18c-4e0a-92a9-2fa6355edda0",
        "colab": {
          "base_uri": "https://localhost:8080/"
        }
      },
      "source": [
        "stocks = {\n",
        "    'MSFT.US': {'Microsoft Corp': 184},\n",
        "    'AAPL.US': {'Apple Inc': 310},\n",
        "    'MMM.US': {'3M Co': 148}\n",
        "}\n",
        "stocks.get('AAPL.US')"
      ],
      "execution_count": 76,
      "outputs": [
        {
          "output_type": "execute_result",
          "data": {
            "text/plain": [
              "{'Apple Inc': 310}"
            ]
          },
          "metadata": {},
          "execution_count": 76
        }
      ]
    },
    {
      "cell_type": "code",
      "metadata": {
        "id": "z8_e0GmSobrX",
        "outputId": "78703537-e524-44da-fcd1-498ad220ddaf",
        "colab": {
          "base_uri": "https://localhost:8080/"
        }
      },
      "source": [
        "print(stocks['AAPL.US'])"
      ],
      "execution_count": 78,
      "outputs": [
        {
          "output_type": "stream",
          "name": "stdout",
          "text": [
            "{'Apple Inc': 310}\n"
          ]
        }
      ]
    },
    {
      "cell_type": "code",
      "metadata": {
        "id": "n_9YXAVkolZL",
        "outputId": "f57ec775-70a9-4e90-d06d-bcac875d6545",
        "colab": {
          "base_uri": "https://localhost:8080/"
        }
      },
      "source": [
        "print(stocks['MSFT.US']['Microsoft Corp'])"
      ],
      "execution_count": 79,
      "outputs": [
        {
          "output_type": "stream",
          "name": "stdout",
          "text": [
            "184\n"
          ]
        }
      ]
    },
    {
      "cell_type": "code",
      "metadata": {
        "id": "sl4utL2do-v8",
        "outputId": "0616f0d4-fed7-4529-90de-7557f64e67fd",
        "colab": {
          "base_uri": "https://localhost:8080/"
        }
      },
      "source": [
        "stocks['MSFT.US']['Microsoft Corp'] = 190\n",
        "print(stocks)"
      ],
      "execution_count": 80,
      "outputs": [
        {
          "output_type": "stream",
          "name": "stdout",
          "text": [
            "{'MSFT.US': {'Microsoft Corp': 190}, 'AAPL.US': {'Apple Inc': 310}, 'MMM.US': {'3M Co': 148}}\n"
          ]
        }
      ]
    },
    {
      "cell_type": "code",
      "metadata": {
        "id": "Zj6bLXi1pLaF",
        "outputId": "2d97abb4-2e60-476a-9c51-5ccf07f66b31",
        "colab": {
          "base_uri": "https://localhost:8080/"
        }
      },
      "source": [
        "print(stocks['MSFT.US'])"
      ],
      "execution_count": 81,
      "outputs": [
        {
          "output_type": "stream",
          "name": "stdout",
          "text": [
            "{'Microsoft Corp': 190}\n"
          ]
        }
      ]
    },
    {
      "cell_type": "code",
      "metadata": {
        "id": "ZId039o0pU0J"
      },
      "source": [
        "stocks['V.US'] = {'Visa Inc': 185}"
      ],
      "execution_count": 82,
      "outputs": []
    },
    {
      "cell_type": "code",
      "metadata": {
        "id": "-sNpKxW9ps_m",
        "outputId": "c3c77a13-bed4-48e4-f606-ab4b95cd9c38",
        "colab": {
          "base_uri": "https://localhost:8080/"
        }
      },
      "source": [
        "print(stocks)"
      ],
      "execution_count": 83,
      "outputs": [
        {
          "output_type": "stream",
          "name": "stdout",
          "text": [
            "{'MSFT.US': {'Microsoft Corp': 190}, 'AAPL.US': {'Apple Inc': 310}, 'MMM.US': {'3M Co': 148}, 'V.US': {'Visa Inc': 185}}\n"
          ]
        }
      ]
    },
    {
      "cell_type": "code",
      "metadata": {
        "id": "v3cYuwT2pvK7",
        "outputId": "e619155f-e87e-4fa7-9fc8-86e680ff1c97",
        "colab": {
          "base_uri": "https://localhost:8080/"
        }
      },
      "source": [
        "print(stocks.values())"
      ],
      "execution_count": 84,
      "outputs": [
        {
          "output_type": "stream",
          "name": "stdout",
          "text": [
            "dict_values([{'Microsoft Corp': 190}, {'Apple Inc': 310}, {'3M Co': 148}, {'Visa Inc': 185}])\n"
          ]
        }
      ]
    },
    {
      "cell_type": "code",
      "metadata": {
        "id": "lMXF_Bz5pzRj",
        "outputId": "98a02f28-cdf6-4679-8960-8ebb2baae014",
        "colab": {
          "base_uri": "https://localhost:8080/"
        }
      },
      "source": [
        "stocks['V.US'] = {'Visa Inc': 185}\n",
        "print(stocks.values())"
      ],
      "execution_count": 85,
      "outputs": [
        {
          "output_type": "stream",
          "name": "stdout",
          "text": [
            "dict_values([{'Microsoft Corp': 190}, {'Apple Inc': 310}, {'3M Co': 148}, {'Visa Inc': 185}])\n"
          ]
        }
      ]
    },
    {
      "cell_type": "code",
      "metadata": {
        "id": "cY8giktGp62s",
        "outputId": "4bd151cf-1f8e-459f-b8b6-3521c0201bc8",
        "colab": {
          "base_uri": "https://localhost:8080/"
        }
      },
      "source": [
        "tickers = [\n",
        "    'AAPL.US', 'AXP.US', 'BA.US', 'CAT.US',\n",
        "    'CSCO.US', 'CVX.US', 'DIS.US', 'DOW.US',\n",
        "    'GS.US', 'HD.US', 'IBM.US', 'INTC.US'\n",
        "]\n",
        "print(tuple(tickers))\n"
      ],
      "execution_count": 87,
      "outputs": [
        {
          "output_type": "stream",
          "name": "stdout",
          "text": [
            "('AAPL.US', 'AXP.US', 'BA.US', 'CAT.US', 'CSCO.US', 'CVX.US', 'DIS.US', 'DOW.US', 'GS.US', 'HD.US', 'IBM.US', 'INTC.US')\n"
          ]
        }
      ]
    },
    {
      "cell_type": "code",
      "metadata": {
        "id": "v0mjF1kGqSUd",
        "outputId": "28b25d71-8a38-42a0-aedb-91737a3024d7",
        "colab": {
          "base_uri": "https://localhost:8080/"
        }
      },
      "source": [
        "tickers_tuples = []\n",
        "for i in range(len(tickers)):\n",
        "  #print(f\"i={i}, {tickers[0]}\")\n",
        "  tickers_tuples.append((i,tickers[i]))\n",
        "print(tickers_tuples)\n",
        "print(list(enumerate(tickers)))"
      ],
      "execution_count": 91,
      "outputs": [
        {
          "output_type": "stream",
          "name": "stdout",
          "text": [
            "[(0, 'AAPL.US'), (1, 'AXP.US'), (2, 'BA.US'), (3, 'CAT.US'), (4, 'CSCO.US'), (5, 'CVX.US'), (6, 'DIS.US'), (7, 'DOW.US'), (8, 'GS.US'), (9, 'HD.US'), (10, 'IBM.US'), (11, 'INTC.US')]\n",
            "[(0, 'AAPL.US'), (1, 'AXP.US'), (2, 'BA.US'), (3, 'CAT.US'), (4, 'CSCO.US'), (5, 'CVX.US'), (6, 'DIS.US'), (7, 'DOW.US'), (8, 'GS.US'), (9, 'HD.US'), (10, 'IBM.US'), (11, 'INTC.US')]\n"
          ]
        }
      ]
    },
    {
      "cell_type": "code",
      "metadata": {
        "id": "YOCf5UH2raJV",
        "outputId": "6dd2e656-8731-492d-f8e4-5e7633965625",
        "colab": {
          "base_uri": "https://localhost:8080/"
        }
      },
      "source": [
        "print(enumerate(tickers))"
      ],
      "execution_count": 92,
      "outputs": [
        {
          "output_type": "stream",
          "name": "stdout",
          "text": [
            "<enumerate object at 0x7f7edd064690>\n"
          ]
        }
      ]
    },
    {
      "cell_type": "code",
      "metadata": {
        "id": "W6REuM0dvbPl",
        "outputId": "c5b6d756-240e-4586-ebd5-9c21123a8dc5",
        "colab": {
          "base_uri": "https://localhost:8080/"
        }
      },
      "source": [
        "for count, value in enumerate(tickers):\n",
        "  print(count, value)"
      ],
      "execution_count": 93,
      "outputs": [
        {
          "output_type": "stream",
          "name": "stdout",
          "text": [
            "0 AAPL.US\n",
            "1 AXP.US\n",
            "2 BA.US\n",
            "3 CAT.US\n",
            "4 CSCO.US\n",
            "5 CVX.US\n",
            "6 DIS.US\n",
            "7 DOW.US\n",
            "8 GS.US\n",
            "9 HD.US\n",
            "10 IBM.US\n",
            "11 INTC.US\n"
          ]
        }
      ]
    },
    {
      "cell_type": "code",
      "metadata": {
        "id": "IyQxPMHJvxxV"
      },
      "source": [
        "project_ids = {\n",
        "    '01': 'open', \n",
        "    '03': 'in progress',\n",
        "    '05': 'in progress',\n",
        "    '04': 'completed'\n",
        "}\n",
        "result = list(set(project_ids.values()))\n",
        "result.sort()"
      ],
      "execution_count": 106,
      "outputs": []
    },
    {
      "cell_type": "code",
      "metadata": {
        "id": "wzY30UxHAjL8",
        "outputId": "d4089290-35f8-43fa-fcf6-a2d4144556a6",
        "colab": {
          "base_uri": "https://localhost:8080/"
        }
      },
      "source": [
        "print(result)"
      ],
      "execution_count": 109,
      "outputs": [
        {
          "output_type": "stream",
          "name": "stdout",
          "text": [
            "['completed', 'in progress', 'open']\n"
          ]
        }
      ]
    },
    {
      "cell_type": "code",
      "metadata": {
        "id": "NiOogz-zB-HU"
      },
      "source": [
        "stats = {'site': 'e-smartdata.org', 'traffic': 100, 'type': 'organic'}\n",
        "del stats['traffic']"
      ],
      "execution_count": 112,
      "outputs": []
    },
    {
      "cell_type": "code",
      "metadata": {
        "id": "FtPimcLnFN6x",
        "outputId": "2030ca68-ae1d-4ca4-9a7d-7fef163a8dd6",
        "colab": {
          "base_uri": "https://localhost:8080/"
        }
      },
      "source": [
        "print(stats)"
      ],
      "execution_count": 113,
      "outputs": [
        {
          "output_type": "stream",
          "name": "stdout",
          "text": [
            "{'site': 'e-smartdata.org', 'type': 'organic'}\n"
          ]
        }
      ]
    },
    {
      "cell_type": "code",
      "metadata": {
        "id": "uV3jYbYcFh__",
        "outputId": "ce428ac3-2723-4309-e541-f316b5cfec6c",
        "colab": {
          "base_uri": "https://localhost:8080/",
          "height": 35
        }
      },
      "source": [
        "users = {'001': 'Mark', '002': 'Monica', '003': 'Jacob'}\n",
        "users.get('004', 'indefinite')"
      ],
      "execution_count": 114,
      "outputs": [
        {
          "output_type": "execute_result",
          "data": {
            "application/vnd.google.colaboratory.intrinsic+json": {
              "type": "string"
            },
            "text/plain": [
              "'indefinite'"
            ]
          },
          "metadata": {},
          "execution_count": 114
        }
      ]
    },
    {
      "cell_type": "code",
      "metadata": {
        "id": "Hb9aVISaF2NY"
      },
      "source": [
        ""
      ],
      "execution_count": null,
      "outputs": []
    }
  ]
}