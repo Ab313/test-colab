{
  "nbformat": 4,
  "nbformat_minor": 0,
  "metadata": {
    "colab": {
      "name": "Intro.ipynb",
      "provenance": [],
      "collapsed_sections": [],
      "authorship_tag": "ABX9TyOi7KVTktmqTETHieIJfW+d",
      "include_colab_link": true
    },
    "kernelspec": {
      "name": "python3",
      "display_name": "Python 3"
    },
    "language_info": {
      "name": "python"
    }
  },
  "cells": [
    {
      "cell_type": "markdown",
      "metadata": {
        "id": "view-in-github",
        "colab_type": "text"
      },
      "source": [
        "<a href=\"https://colab.research.google.com/github/Ab313/test-colab/blob/master/template.ipynb\" target=\"_parent\"><img src=\"https://colab.research.google.com/assets/colab-badge.svg\" alt=\"Open In Colab\"/></a>"
      ]
    },
    {
      "cell_type": "markdown",
      "metadata": {
        "id": "gMtVh0JhJeCw"
      },
      "source": [
        "##Sales\n"
      ]
    },
    {
      "cell_type": "code",
      "metadata": {
        "colab": {
          "base_uri": "https://localhost:8080/"
        },
        "id": "IT7_anYnI1Ow",
        "outputId": "d3985994-532b-4504-b9f9-6ce764b111b5"
      },
      "source": [
        "revenue = 10000\n",
        "tax = 0.19\n",
        "income = revenue * tax\n",
        "income"
      ],
      "execution_count": null,
      "outputs": [
        {
          "output_type": "execute_result",
          "data": {
            "text/plain": [
              "1900.0"
            ]
          },
          "metadata": {},
          "execution_count": 5
        }
      ]
    },
    {
      "cell_type": "markdown",
      "metadata": {
        "id": "wbGJ3v_VJpkF"
      },
      "source": [
        "##Summary"
      ]
    },
    {
      "cell_type": "code",
      "metadata": {
        "colab": {
          "base_uri": "https://localhost:8080/",
          "height": 35
        },
        "id": "YLA5GUYeJ89Q",
        "outputId": "d1038b60-455c-4e23-975c-3aa98632fd74"
      },
      "source": [
        "import numpy as np\n",
        "np.__version__"
      ],
      "execution_count": null,
      "outputs": [
        {
          "output_type": "execute_result",
          "data": {
            "application/vnd.google.colaboratory.intrinsic+json": {
              "type": "string"
            },
            "text/plain": [
              "'1.19.5'"
            ]
          },
          "metadata": {},
          "execution_count": 7
        }
      ]
    },
    {
      "cell_type": "code",
      "metadata": {
        "id": "4_CiwCrHM7Kw"
      },
      "source": [
        "import imageai"
      ],
      "execution_count": null,
      "outputs": []
    },
    {
      "cell_type": "markdown",
      "metadata": {
        "id": "eLpzcKXHNIiE"
      },
      "source": [
        "##Markdown"
      ]
    },
    {
      "cell_type": "markdown",
      "metadata": {
        "id": "g58CqNk9OJ3J"
      },
      "source": [
        "\n",
        "Example of *markdown*\n",
        "\n",
        "Example of **markdown**\n",
        "\n",
        "Example of __markdown__\n",
        "\n",
        "Example of `markdown`\n",
        "\n",
        "```\n",
        "Example of markdown\n",
        "```\n",
        "\n",
        "\n",
        ">Python\n",
        ">>>Python\n",
        "\n",
        "An ordered list:\n",
        "1. One\n",
        "2. Two\n",
        "3. Three\n",
        "\n",
        "An unordered list:\n",
        "* One\n",
        "* Two\n",
        "* Three\n",
        "\n"
      ]
    },
    {
      "cell_type": "markdown",
      "metadata": {
        "id": "N8w_5WQjQE9q"
      },
      "source": [
        "\n",
        "[Google](https://www.google.com)"
      ]
    },
    {
      "cell_type": "markdown",
      "metadata": {
        "id": "9Fqzju7bQi73"
      },
      "source": [
        "$y = x^2$\n"
      ]
    },
    {
      "cell_type": "code",
      "metadata": {
        "colab": {
          "base_uri": "https://localhost:8080/"
        },
        "id": "zABBA25FPvFY",
        "outputId": "799974c6-e312-4ba2-9ad2-bec0bcdd2e05"
      },
      "source": [
        "lang = 'Python'\n",
        "version = '3.8'\n",
        "print(f'I am learning {lang} version {version}')"
      ],
      "execution_count": null,
      "outputs": [
        {
          "output_type": "stream",
          "name": "stdout",
          "text": [
            "I am learning Python version 3.8\n"
          ]
        }
      ]
    },
    {
      "cell_type": "code",
      "metadata": {
        "colab": {
          "base_uri": "https://localhost:8080/"
        },
        "id": "A_T57lR_ToWO",
        "outputId": "7b14565d-436b-4b48-eaa3-1599af260dd5"
      },
      "source": [
        "filename = 'view.jpg'\n",
        "print(filename[-3:])\n",
        "print(filename[5:])"
      ],
      "execution_count": null,
      "outputs": [
        {
          "output_type": "stream",
          "name": "stdout",
          "text": [
            "jpg\n",
            "jpg\n"
          ]
        }
      ]
    },
    {
      "cell_type": "code",
      "metadata": {
        "colab": {
          "base_uri": "https://localhost:8080/"
        },
        "id": "3jsZBzitU55D",
        "outputId": "8ac2b8ac-97ee-42e2-efb5-dd38a0d9dce7"
      },
      "source": [
        "string = '1 0 0 1 0 1'\n",
        "binary = string[::2]\n",
        "number = int(binary, 2)\n",
        "print(f'Number found: {number}')"
      ],
      "execution_count": null,
      "outputs": [
        {
          "output_type": "stream",
          "name": "stdout",
          "text": [
            "Number found: 37\n"
          ]
        }
      ]
    },
    {
      "cell_type": "code",
      "metadata": {
        "colab": {
          "base_uri": "https://localhost:8080/"
        },
        "id": "PpnTFWMxacnl",
        "outputId": "47a09878-5a2e-4b6d-db7c-4acac0a2d4e7"
      },
      "source": [
        "print(binary)"
      ],
      "execution_count": null,
      "outputs": [
        {
          "output_type": "stream",
          "name": "stdout",
          "text": [
            "100101\n"
          ]
        }
      ]
    },
    {
      "cell_type": "code",
      "metadata": {
        "colab": {
          "base_uri": "https://localhost:8080/",
          "height": 35
        },
        "id": "yr2mvYoucUDS",
        "outputId": "8557d438-ffc2-4164-dd0f-a3be92e6ab20"
      },
      "source": [
        "string[::2]"
      ],
      "execution_count": null,
      "outputs": [
        {
          "output_type": "execute_result",
          "data": {
            "application/vnd.google.colaboratory.intrinsic+json": {
              "type": "string"
            },
            "text/plain": [
              "'100101'"
            ]
          },
          "metadata": {},
          "execution_count": 17
        }
      ]
    },
    {
      "cell_type": "code",
      "metadata": {
        "colab": {
          "base_uri": "https://localhost:8080/"
        },
        "id": "SnRzWGijcZmJ",
        "outputId": "8d138aef-fd75-4afa-81f7-fd864d88335e"
      },
      "source": [
        "text = 'Python Course'\n",
        "print (text[::-1 ])"
      ],
      "execution_count": null,
      "outputs": [
        {
          "output_type": "stream",
          "name": "stdout",
          "text": [
            "esruoC nohtyP\n"
          ]
        }
      ]
    },
    {
      "cell_type": "code",
      "metadata": {
        "id": "4YgJAsaYdWax",
        "colab": {
          "base_uri": "https://localhost:8080/"
        },
        "outputId": "dde5fedb-012b-48a3-e16e-1cc3c55069b0"
      },
      "source": [
        "print (text[-1])"
      ],
      "execution_count": null,
      "outputs": [
        {
          "output_type": "stream",
          "name": "stdout",
          "text": [
            "e\n"
          ]
        }
      ]
    },
    {
      "cell_type": "code",
      "metadata": {
        "id": "v6PD079yf9u9",
        "colab": {
          "base_uri": "https://localhost:8080/"
        },
        "outputId": "52e35cee-3070-4578-dbdf-04727f12e79c"
      },
      "source": [
        "print (text[-2:])"
      ],
      "execution_count": null,
      "outputs": [
        {
          "output_type": "stream",
          "name": "stdout",
          "text": [
            "se\n"
          ]
        }
      ]
    },
    {
      "cell_type": "code",
      "metadata": {
        "id": "FxhzBXXlgHJb",
        "colab": {
          "base_uri": "https://localhost:8080/"
        },
        "outputId": "d6eef5ee-65ea-4b9a-c0eb-fa8da1207fcc"
      },
      "source": [
        "print(text[-1:])"
      ],
      "execution_count": null,
      "outputs": [
        {
          "output_type": "stream",
          "name": "stdout",
          "text": [
            "e\n"
          ]
        }
      ]
    },
    {
      "cell_type": "code",
      "metadata": {
        "id": "xrgjUDg-gWxW",
        "colab": {
          "base_uri": "https://localhost:8080/"
        },
        "outputId": "baa5d8b1-6c4d-440b-e874-612628bbcfc8"
      },
      "source": [
        "print(text[:-2])"
      ],
      "execution_count": null,
      "outputs": [
        {
          "output_type": "stream",
          "name": "stdout",
          "text": [
            "Python Cour\n"
          ]
        }
      ]
    },
    {
      "cell_type": "code",
      "metadata": {
        "id": "qirm_OCzhIRt",
        "colab": {
          "base_uri": "https://localhost:8080/"
        },
        "outputId": "a65fa4cd-5b08-4c46-a049-cce182877135"
      },
      "source": [
        "print(text[:2])"
      ],
      "execution_count": null,
      "outputs": [
        {
          "output_type": "stream",
          "name": "stdout",
          "text": [
            "Py\n"
          ]
        }
      ]
    },
    {
      "cell_type": "code",
      "metadata": {
        "id": "e25rkmtPhNPr",
        "colab": {
          "base_uri": "https://localhost:8080/"
        },
        "outputId": "2199de27-4b9b-42db-9f31-07be85f0aeab"
      },
      "source": [
        "print(text[-1]) # last item in the array\n"
      ],
      "execution_count": null,
      "outputs": [
        {
          "output_type": "stream",
          "name": "stdout",
          "text": [
            "e\n"
          ]
        }
      ]
    },
    {
      "cell_type": "code",
      "metadata": {
        "id": "c9ZH6eRPhZp8",
        "colab": {
          "base_uri": "https://localhost:8080/"
        },
        "outputId": "63f70248-45e3-4872-c7b0-1212037b969e"
      },
      "source": [
        "print(text[-2:]) # last two items in the array"
      ],
      "execution_count": null,
      "outputs": [
        {
          "output_type": "stream",
          "name": "stdout",
          "text": [
            "se\n"
          ]
        }
      ]
    },
    {
      "cell_type": "code",
      "metadata": {
        "id": "oPYVkrGLhke-",
        "colab": {
          "base_uri": "https://localhost:8080/"
        },
        "outputId": "62b90fd1-6f20-43d7-ce0d-da64fcb87e20"
      },
      "source": [
        "print(text[:-2]) # everything except the last two items"
      ],
      "execution_count": null,
      "outputs": [
        {
          "output_type": "stream",
          "name": "stdout",
          "text": [
            "Python Cour\n"
          ]
        }
      ]
    },
    {
      "cell_type": "code",
      "metadata": {
        "id": "KPbkC6AchsSv",
        "colab": {
          "base_uri": "https://localhost:8080/"
        },
        "outputId": "96889164-c69c-4196-d92c-5dbda1a40c4a"
      },
      "source": [
        "print(text[::-1]) # all items in the array, reversed"
      ],
      "execution_count": null,
      "outputs": [
        {
          "output_type": "stream",
          "name": "stdout",
          "text": [
            "esruoC nohtyP\n"
          ]
        }
      ]
    },
    {
      "cell_type": "code",
      "metadata": {
        "id": "zp10TY0fh9Py",
        "colab": {
          "base_uri": "https://localhost:8080/"
        },
        "outputId": "05b13f95-2e02-496c-828b-b0dd57b0370e"
      },
      "source": [
        "print(text[1::-1]) # the first two items, reversed"
      ],
      "execution_count": null,
      "outputs": [
        {
          "output_type": "stream",
          "name": "stdout",
          "text": [
            "yP\n"
          ]
        }
      ]
    },
    {
      "cell_type": "code",
      "metadata": {
        "id": "sebbdcYzmHHd",
        "colab": {
          "base_uri": "https://localhost:8080/"
        },
        "outputId": "b648ef47-0198-4ed7-a46f-848066bd49df"
      },
      "source": [
        "print(text[:-3:-1]) # the last two items, reversed"
      ],
      "execution_count": null,
      "outputs": [
        {
          "output_type": "stream",
          "name": "stdout",
          "text": [
            "es\n"
          ]
        }
      ]
    },
    {
      "cell_type": "code",
      "metadata": {
        "id": "KSSDBj2XmfmU",
        "colab": {
          "base_uri": "https://localhost:8080/"
        },
        "outputId": "659ff06d-9363-4516-c14e-abf14d01c3f8"
      },
      "source": [
        "print(text[-3::-1]) # everything except the last two items, reversed"
      ],
      "execution_count": null,
      "outputs": [
        {
          "output_type": "stream",
          "name": "stdout",
          "text": [
            "ruoC nohtyP\n"
          ]
        }
      ]
    },
    {
      "cell_type": "code",
      "metadata": {
        "id": "-U2q6MdOm3WV",
        "colab": {
          "base_uri": "https://localhost:8080/"
        },
        "outputId": "fe6b0b1e-df76-488f-8dd7-03a2592af396"
      },
      "source": [
        "text = 'python is a popular programming language.'\n",
        "print(text.capitalize())"
      ],
      "execution_count": null,
      "outputs": [
        {
          "output_type": "stream",
          "name": "stdout",
          "text": [
            "Python is a popular programming language.\n"
          ]
        }
      ]
    },
    {
      "cell_type": "code",
      "metadata": {
        "id": "7PnqBHRjpATa",
        "colab": {
          "base_uri": "https://localhost:8080/",
          "height": 35
        },
        "outputId": "6a7c608f-6252-4b1c-b8eb-1815f8ebf6d6"
      },
      "source": [
        "code1 = 'FVNISJND-XX-2020'\n",
        "code2 = 'FVNISJND-XY-2019'\n",
        "code1[-4:]"
      ],
      "execution_count": null,
      "outputs": [
        {
          "output_type": "execute_result",
          "data": {
            "application/vnd.google.colaboratory.intrinsic+json": {
              "type": "string"
            },
            "text/plain": [
              "'2020'"
            ]
          },
          "metadata": {},
          "execution_count": 40
        }
      ]
    },
    {
      "cell_type": "code",
      "metadata": {
        "colab": {
          "base_uri": "https://localhost:8080/"
        },
        "id": "pfiWrDUtv1wS",
        "outputId": "e626cc0d-cbcf-4506-e1d8-2080e7927b43"
      },
      "source": [
        "codes = [code1, code2]\n",
        "for code in codes:\n",
        "  if code[-4:] == '2020':\n",
        "    print(code)"
      ],
      "execution_count": null,
      "outputs": [
        {
          "output_type": "stream",
          "name": "stdout",
          "text": [
            "FVNISJND-XX-2020\n"
          ]
        }
      ]
    },
    {
      "cell_type": "code",
      "metadata": {
        "colab": {
          "base_uri": "https://localhost:8080/"
        },
        "id": "yu6qWh7rwP7t",
        "outputId": "26067509-926b-4f67-efaf-cb3e9e733078"
      },
      "source": [
        "num = 34\n",
        "print(str(num).zfill(6))\n"
      ],
      "execution_count": null,
      "outputs": [
        {
          "output_type": "stream",
          "name": "stdout",
          "text": [
            "000034\n"
          ]
        }
      ]
    },
    {
      "cell_type": "code",
      "metadata": {
        "colab": {
          "base_uri": "https://localhost:8080/"
        },
        "id": "qNaQzgEK1jZ0",
        "outputId": "79e2a9cc-0604-4ff9-e473-2087fb4c6a24"
      },
      "source": [
        "url = 'https://e-smartdata.teachable.com/p/sciezka-data-scientist-machine-learning-engineer'\n",
        "name = url.split('/')[-1]\n",
        "name = name.replace('-', ' ')\n",
        "print(name)"
      ],
      "execution_count": null,
      "outputs": [
        {
          "output_type": "stream",
          "name": "stdout",
          "text": [
            "sciezka data scientist machine learning engineer\n"
          ]
        }
      ]
    },
    {
      "cell_type": "code",
      "metadata": {
        "colab": {
          "base_uri": "https://localhost:8080/"
        },
        "id": "OB2oufS_2IWF",
        "outputId": "0233f9ae-d016-4361-ff68-42821c50cb42"
      },
      "source": [
        "subjects = {'mathematics', 'biology'}\n",
        "subjects.add('english')\n",
        "print(subjects)"
      ],
      "execution_count": null,
      "outputs": [
        {
          "output_type": "stream",
          "name": "stdout",
          "text": [
            "{'english', 'mathematics', 'biology'}\n"
          ]
        }
      ]
    },
    {
      "cell_type": "code",
      "metadata": {
        "colab": {
          "base_uri": "https://localhost:8080/"
        },
        "id": "S0b7w9bZ2kiQ",
        "outputId": "ed70ff40-0471-4c40-a29d-206f834934c9"
      },
      "source": [
        "text = 'Programming in python.'\n",
        "vowels = {'a', 'e', 'i', 'o', 'u'}\n",
        "text = text.lower()\n",
        "print(text)"
      ],
      "execution_count": null,
      "outputs": [
        {
          "output_type": "stream",
          "name": "stdout",
          "text": [
            "programming in python.\n"
          ]
        }
      ]
    },
    {
      "cell_type": "code",
      "metadata": {
        "colab": {
          "base_uri": "https://localhost:8080/"
        },
        "id": "3KG1aucu25MS",
        "outputId": "96f0ab3e-0f79-42d7-ddc8-4b52e19c566d"
      },
      "source": [
        "text = text.replace(' ', '')\n",
        "text = text.replace('.', '')\n",
        "vowels = {'a', 'e', 'i', 'o', 'u'}\n",
        "letters = set(text)\n",
        "consonants = letters.difference(vowels)\n",
        "print(f'Number of items: {len(consonants)}')\n",
        "print(text) "
      ],
      "execution_count": null,
      "outputs": [
        {
          "output_type": "stream",
          "name": "stdout",
          "text": [
            "Number of items: 8\n",
            "programminginpython\n"
          ]
        }
      ]
    },
    {
      "cell_type": "code",
      "metadata": {
        "colab": {
          "base_uri": "https://localhost:8080/"
        },
        "id": "Yqu1qXVx3Snd",
        "outputId": "2c7f79fb-52af-4719-d564-3226f4671be7"
      },
      "source": [
        "A = {2, 4, 6, 8}\n",
        "B = {4, 10}\n",
        "sym_diff = A.symmetric_difference(B)\n",
        "print(f'Symmetric difference: {sym_diff}')"
      ],
      "execution_count": null,
      "outputs": [
        {
          "output_type": "stream",
          "name": "stdout",
          "text": [
            "Symmetric difference: {2, 6, 8, 10}\n"
          ]
        }
      ]
    },
    {
      "cell_type": "code",
      "metadata": {
        "colab": {
          "base_uri": "https://localhost:8080/"
        },
        "id": "EnofGVIE5KRv",
        "outputId": "961795d9-ec23-4962-b919-66b71d4beb6e"
      },
      "source": [
        "ad1_id = {'001', '002', '003'}\n",
        "ad2_id = {'002', '003', '007'}\n",
        "result = ad1_id.symmetric_difference(ad2_id)\n",
        "print(f'Selected ID: {result}')"
      ],
      "execution_count": null,
      "outputs": [
        {
          "output_type": "stream",
          "name": "stdout",
          "text": [
            "Selected ID: {'007', '001'}\n"
          ]
        }
      ]
    },
    {
      "cell_type": "code",
      "metadata": {
        "colab": {
          "base_uri": "https://localhost:8080/"
        },
        "id": "Vt0P-LRG6Nxd",
        "outputId": "1c7d212d-ad0f-49af-feab-c6a0da281375"
      },
      "source": [
        "is_clicked = {'9001', '9002', '9005'}\n",
        "is_bought = {'9002', '9004', '9005'}\n",
        "result = is_clicked.intersection(is_bought)\n",
        "print(f'Customer ID: {result}')"
      ],
      "execution_count": null,
      "outputs": [
        {
          "output_type": "stream",
          "name": "stdout",
          "text": [
            "Customer ID: {'9002', '9005'}\n"
          ]
        }
      ]
    },
    {
      "cell_type": "code",
      "metadata": {
        "colab": {
          "base_uri": "https://localhost:8080/"
        },
        "id": "LfiLryJS6rNo",
        "outputId": "767b3960-f9e5-4f69-95f9-d32668fc63b4"
      },
      "source": [
        "dji1 = ('AAPL.US', 'IBM.US', 'MSFT.US')\n",
        "dji2 = ('HD.US', 'GS.US', 'NKE.US')\n",
        "result = dji1 + dji2\n",
        "print(result)"
      ],
      "execution_count": null,
      "outputs": [
        {
          "output_type": "stream",
          "name": "stdout",
          "text": [
            "('AAPL.US', 'IBM.US', 'MSFT.US', 'HD.US', 'GS.US', 'NKE.US')\n"
          ]
        }
      ]
    },
    {
      "cell_type": "code",
      "metadata": {
        "id": "TmWNwGthE7Sm"
      },
      "source": [
        "result = (dji1, dji2)"
      ],
      "execution_count": null,
      "outputs": []
    },
    {
      "cell_type": "code",
      "metadata": {
        "colab": {
          "base_uri": "https://localhost:8080/"
        },
        "id": "pedoviZVGKt3",
        "outputId": "84702247-439f-4f1b-b19c-65304d8509ad"
      },
      "source": [
        "print(result)"
      ],
      "execution_count": null,
      "outputs": [
        {
          "output_type": "stream",
          "name": "stdout",
          "text": [
            "(('AAPL.US', 'IBM.US', 'MSFT.US'), ('HD.US', 'GS.US', 'NKE.US'))\n"
          ]
        }
      ]
    },
    {
      "cell_type": "code",
      "metadata": {
        "id": "a-zMn4DPGNem"
      },
      "source": [
        "members = (('Kate', 23), ('Tom', 19))\n",
        "result = (members[0], ('John', 26), members[1])"
      ],
      "execution_count": null,
      "outputs": []
    },
    {
      "cell_type": "code",
      "metadata": {
        "colab": {
          "base_uri": "https://localhost:8080/"
        },
        "id": "OVjL6IzMJc4R",
        "outputId": "7142b25e-7c22-40fe-bb02-b8135497f1f7"
      },
      "source": [
        "print(result)"
      ],
      "execution_count": null,
      "outputs": [
        {
          "output_type": "stream",
          "name": "stdout",
          "text": [
            "(('Kate', 23), ('John', 26), ('Tom', 19))\n"
          ]
        }
      ]
    },
    {
      "cell_type": "code",
      "metadata": {
        "colab": {
          "base_uri": "https://localhost:8080/"
        },
        "id": "i6VrNMgJJkwd",
        "outputId": "5859080d-61f1-4025-fed3-5ff25d1ac717"
      },
      "source": [
        "default = ('YES', 'NO', 'NO', 'YES', 'NO')\n",
        "print(default.count('YES'))"
      ],
      "execution_count": null,
      "outputs": [
        {
          "output_type": "stream",
          "name": "stdout",
          "text": [
            "2\n"
          ]
        }
      ]
    },
    {
      "cell_type": "code",
      "metadata": {
        "id": "6snSq5wuKQIB"
      },
      "source": [
        "names =('Monica', 'Tom', 'John','Michael')\n",
        "result = tuple(sorted(names))"
      ],
      "execution_count": null,
      "outputs": []
    },
    {
      "cell_type": "code",
      "metadata": {
        "colab": {
          "base_uri": "https://localhost:8080/"
        },
        "id": "BV3Qxia5VloS",
        "outputId": "8bcc3df4-d316-4191-bf24-84344b1fbd8c"
      },
      "source": [
        "print(result)"
      ],
      "execution_count": null,
      "outputs": [
        {
          "output_type": "stream",
          "name": "stdout",
          "text": [
            "('John', 'Michael', 'Monica', 'Tom')\n"
          ]
        }
      ]
    },
    {
      "cell_type": "code",
      "metadata": {
        "colab": {
          "base_uri": "https://localhost:8080/"
        },
        "id": "8_Spkzb3VpSz",
        "outputId": "797d53d7-5e26-44a7-c5dd-9e07252b7be0"
      },
      "source": [
        "print(tuple(sorted(names)))"
      ],
      "execution_count": null,
      "outputs": [
        {
          "output_type": "stream",
          "name": "stdout",
          "text": [
            "('John', 'Michael', 'Monica', 'Tom')\n"
          ]
        }
      ]
    },
    {
      "cell_type": "code",
      "metadata": {
        "colab": {
          "base_uri": "https://localhost:8080/"
        },
        "id": "T4vuKPY6WFo3",
        "outputId": "036595d8-3fc5-4031-debe-7c77a693d66b"
      },
      "source": [
        "print(sorted(names))"
      ],
      "execution_count": null,
      "outputs": [
        {
          "output_type": "stream",
          "name": "stdout",
          "text": [
            "['John', 'Michael', 'Monica', 'Tom']\n"
          ]
        }
      ]
    },
    {
      "cell_type": "code",
      "metadata": {
        "id": "npM99DktWKEN"
      },
      "source": [
        "info = (('Monica', 19), ('Tom', 21), ('John', 18))\n",
        "asc = tuple(sorted(info, key=lambda item: item[1]))\n",
        "desc = tuple(sorted(info, key=lambda item: item[1], reverse=True))"
      ],
      "execution_count": null,
      "outputs": []
    },
    {
      "cell_type": "markdown",
      "metadata": {
        "id": "jxgrvgXUa4OP"
      },
      "source": [
        ""
      ]
    },
    {
      "cell_type": "code",
      "metadata": {
        "colab": {
          "base_uri": "https://localhost:8080/"
        },
        "id": "CYG_WTHmZqqW",
        "outputId": "3bbd5f20-cf1b-460a-a7a8-fd3364a27ca7"
      },
      "source": [
        "print(asc)\n",
        "print(desc)"
      ],
      "execution_count": null,
      "outputs": [
        {
          "output_type": "stream",
          "name": "stdout",
          "text": [
            "(('John', 18), ('Monica', 19), ('Tom', 21))\n",
            "(('Tom', 21), ('Monica', 19), ('John', 18))\n"
          ]
        }
      ]
    },
    {
      "cell_type": "code",
      "metadata": {
        "colab": {
          "base_uri": "https://localhost:8080/"
        },
        "id": "-AiRkPb4ZsOj",
        "outputId": "fca08cce-42af-45b4-d045-8e1c67e21f1a"
      },
      "source": [
        "stocks = (('Apple Inc', ('AAPL.US', 310)), ('Microsoft Corp', ('MSFT.US', 184)))\n",
        "print(stocks[0][1][0])"
      ],
      "execution_count": null,
      "outputs": [
        {
          "output_type": "stream",
          "name": "stdout",
          "text": [
            "AAPL.US\n"
          ]
        }
      ]
    },
    {
      "cell_type": "code",
      "metadata": {
        "colab": {
          "base_uri": "https://localhost:8080/"
        },
        "id": "--qR80Psa8ZE",
        "outputId": "4c6a5faa-03c2-4c21-ba62-253258698939"
      },
      "source": [
        "cities = ['Los Angeles', 'New York', 'Chicago']\n",
        "cities.append('Houston')\n",
        "print(cities)"
      ],
      "execution_count": null,
      "outputs": [
        {
          "output_type": "stream",
          "name": "stdout",
          "text": [
            "['Los Angeles', 'New York', 'Chicago', 'Houston']\n"
          ]
        }
      ]
    },
    {
      "cell_type": "code",
      "metadata": {
        "colab": {
          "base_uri": "https://localhost:8080/"
        },
        "id": "VLCKNnjpbKtl",
        "outputId": "16b3bfc4-723f-452f-f4ce-228a1ebc72b1"
      },
      "source": [
        "idx = ['001', '002', '001', '003', '001']\n",
        "print(f\"Ocurrence of 001={idx.count('001')}\")"
      ],
      "execution_count": null,
      "outputs": [
        {
          "output_type": "stream",
          "name": "stdout",
          "text": [
            "Ocurrence of 001=3\n"
          ]
        }
      ]
    },
    {
      "cell_type": "code",
      "metadata": {
        "colab": {
          "base_uri": "https://localhost:8080/"
        },
        "id": "KxouEueDbdq9",
        "outputId": "50cfe7f1-57e0-4f57-bf86-76504c22afd8"
      },
      "source": [
        "text = 'Python programming'\n",
        "text = text.lower()\n",
        "text = text.replace(' ', '')\n",
        "result = list(set(text))\n",
        "print(sorted(result))\n",
        "result.sort()\n",
        "print(result)"
      ],
      "execution_count": null,
      "outputs": [
        {
          "output_type": "stream",
          "name": "stdout",
          "text": [
            "['a', 'g', 'h', 'i', 'm', 'n', 'o', 'p', 'r', 't', 'y']\n",
            "['a', 'g', 'h', 'i', 'm', 'n', 'o', 'p', 'r', 't', 'y']\n"
          ]
        }
      ]
    },
    {
      "cell_type": "code",
      "metadata": {
        "id": "NGpgvGhGcRhZ",
        "colab": {
          "base_uri": "https://localhost:8080/"
        },
        "outputId": "7854b93f-6343-4c94-df53-8fdd5e87bb6c"
      },
      "source": [
        "text = 'Python programming'\n",
        "text = text.lower()\n",
        "characters = list(set(text))\n",
        "characters.remove(' ')\n",
        "characters.sort()\n",
        "print(characters)"
      ],
      "execution_count": null,
      "outputs": [
        {
          "output_type": "stream",
          "name": "stdout",
          "text": [
            "['a', 'g', 'h', 'i', 'm', 'n', 'o', 'p', 'r', 't', 'y']\n"
          ]
        }
      ]
    },
    {
      "cell_type": "code",
      "metadata": {
        "id": "pDW9mxjLcZBX",
        "colab": {
          "base_uri": "https://localhost:8080/"
        },
        "outputId": "3030fb5e-e9ba-4c99-fb48-56173604e236"
      },
      "source": [
        "filenames = ['view.jpg', 'bear.jpg', 'ball.png']\n",
        "filenames.insert(0,'phone.jpg')\n",
        "filenames.remove('ball.png')\n",
        "print(filenames)"
      ],
      "execution_count": null,
      "outputs": [
        {
          "output_type": "stream",
          "name": "stdout",
          "text": [
            "['phone.jpg', 'view.jpg', 'bear.jpg']\n"
          ]
        }
      ]
    },
    {
      "cell_type": "code",
      "metadata": {
        "id": "xFX1ObPGfBzx"
      },
      "source": [
        "day1 = ['3984', '9042', '4829', '2380']\n",
        "day2 = ['4231', '5234', '1345', '2455']\n",
        "#result = list(tuple(day1)+tuple(day2))\n",
        "day1.extend(day2)"
      ],
      "execution_count": null,
      "outputs": []
    },
    {
      "cell_type": "code",
      "metadata": {
        "id": "YFuxYsUbgfS1",
        "colab": {
          "base_uri": "https://localhost:8080/"
        },
        "outputId": "66010e98-e193-4364-8741-1bcb16a66d98"
      },
      "source": [
        "print(day1)"
      ],
      "execution_count": null,
      "outputs": [
        {
          "output_type": "stream",
          "name": "stdout",
          "text": [
            "['3984', '9042', '4829', '2380', '4231', '5234', '1345', '2455']\n"
          ]
        }
      ]
    },
    {
      "cell_type": "code",
      "metadata": {
        "id": "kcspYj7ggmtH",
        "colab": {
          "base_uri": "https://localhost:8080/"
        },
        "outputId": "c7ba70d8-bc7e-4e03-86df-c2edf33e7c76"
      },
      "source": [
        "techs = ('python', 'java', 'sql', 'aws')\n",
        "print(tuple(sorted(techs)))"
      ],
      "execution_count": null,
      "outputs": [
        {
          "output_type": "stream",
          "name": "stdout",
          "text": [
            "('aws', 'java', 'python', 'sql')\n"
          ]
        }
      ]
    },
    {
      "cell_type": "code",
      "metadata": {
        "colab": {
          "base_uri": "https://localhost:8080/"
        },
        "id": "aMPkh2LPhWQA",
        "outputId": "10ba20fb-c17c-4e36-cbd3-b1afa6232a26"
      },
      "source": [
        "hashtags = ['summer', 'time', 'vibes']\n",
        "print('#'+'#'.join(hashtags))"
      ],
      "execution_count": null,
      "outputs": [
        {
          "output_type": "stream",
          "name": "stdout",
          "text": [
            "#summer#time#vibes\n"
          ]
        }
      ]
    },
    {
      "cell_type": "code",
      "metadata": {
        "colab": {
          "base_uri": "https://localhost:8080/"
        },
        "id": "RzRi0BvXio_q",
        "outputId": "da6209b4-bffe-488a-bfab-1a5bc16a5402"
      },
      "source": [
        "capitals = {'USA':'Washington', 'Germany':'Berlin', 'Austria':'Vienna'}\n",
        "print(capitals)"
      ],
      "execution_count": null,
      "outputs": [
        {
          "output_type": "stream",
          "name": "stdout",
          "text": [
            "{'USA': 'Washington', 'Germany': 'Berlin', 'Austria': 'Vienna'}\n"
          ]
        }
      ]
    },
    {
      "cell_type": "code",
      "metadata": {
        "colab": {
          "base_uri": "https://localhost:8080/"
        },
        "id": "uha1Pizrmvbs",
        "outputId": "2f12bcce-7097-4d88-9180-815df68886e4"
      },
      "source": [
        "print(capitals.keys())"
      ],
      "execution_count": null,
      "outputs": [
        {
          "output_type": "stream",
          "name": "stdout",
          "text": [
            "dict_keys(['USA', 'Germany', 'Austria'])\n"
          ]
        }
      ]
    },
    {
      "cell_type": "code",
      "metadata": {
        "colab": {
          "base_uri": "https://localhost:8080/"
        },
        "id": "pI237yOIngIa",
        "outputId": "d2df548b-fefb-4c33-d632-7091bc93720c"
      },
      "source": [
        "print(capitals.items())"
      ],
      "execution_count": null,
      "outputs": [
        {
          "output_type": "stream",
          "name": "stdout",
          "text": [
            "dict_items([('USA', 'Washington'), ('Germany', 'Berlin'), ('Austria', 'Vienna')])\n"
          ]
        }
      ]
    },
    {
      "cell_type": "code",
      "metadata": {
        "colab": {
          "base_uri": "https://localhost:8080/"
        },
        "id": "-qJhAUG_n6Z5",
        "outputId": "a16045ff-988d-41fc-f182-d39f73c12486"
      },
      "source": [
        "print(capitals.get('Austria'))"
      ],
      "execution_count": null,
      "outputs": [
        {
          "output_type": "stream",
          "name": "stdout",
          "text": [
            "Vienna\n"
          ]
        }
      ]
    },
    {
      "cell_type": "code",
      "metadata": {
        "colab": {
          "base_uri": "https://localhost:8080/"
        },
        "id": "YJO7stUnoGAA",
        "outputId": "f1987d57-f18c-4e0a-92a9-2fa6355edda0"
      },
      "source": [
        "stocks = {\n",
        "    'MSFT.US': {'Microsoft Corp': 184},\n",
        "    'AAPL.US': {'Apple Inc': 310},\n",
        "    'MMM.US': {'3M Co': 148}\n",
        "}\n",
        "stocks.get('AAPL.US')"
      ],
      "execution_count": null,
      "outputs": [
        {
          "output_type": "execute_result",
          "data": {
            "text/plain": [
              "{'Apple Inc': 310}"
            ]
          },
          "metadata": {},
          "execution_count": 76
        }
      ]
    },
    {
      "cell_type": "code",
      "metadata": {
        "colab": {
          "base_uri": "https://localhost:8080/"
        },
        "id": "z8_e0GmSobrX",
        "outputId": "78703537-e524-44da-fcd1-498ad220ddaf"
      },
      "source": [
        "print(stocks['AAPL.US'])"
      ],
      "execution_count": null,
      "outputs": [
        {
          "output_type": "stream",
          "name": "stdout",
          "text": [
            "{'Apple Inc': 310}\n"
          ]
        }
      ]
    },
    {
      "cell_type": "code",
      "metadata": {
        "colab": {
          "base_uri": "https://localhost:8080/"
        },
        "id": "n_9YXAVkolZL",
        "outputId": "f57ec775-70a9-4e90-d06d-bcac875d6545"
      },
      "source": [
        "print(stocks['MSFT.US']['Microsoft Corp'])"
      ],
      "execution_count": null,
      "outputs": [
        {
          "output_type": "stream",
          "name": "stdout",
          "text": [
            "184\n"
          ]
        }
      ]
    },
    {
      "cell_type": "code",
      "metadata": {
        "colab": {
          "base_uri": "https://localhost:8080/"
        },
        "id": "sl4utL2do-v8",
        "outputId": "0616f0d4-fed7-4529-90de-7557f64e67fd"
      },
      "source": [
        "stocks['MSFT.US']['Microsoft Corp'] = 190\n",
        "print(stocks)"
      ],
      "execution_count": null,
      "outputs": [
        {
          "output_type": "stream",
          "name": "stdout",
          "text": [
            "{'MSFT.US': {'Microsoft Corp': 190}, 'AAPL.US': {'Apple Inc': 310}, 'MMM.US': {'3M Co': 148}}\n"
          ]
        }
      ]
    },
    {
      "cell_type": "code",
      "metadata": {
        "colab": {
          "base_uri": "https://localhost:8080/"
        },
        "id": "Zj6bLXi1pLaF",
        "outputId": "2d97abb4-2e60-476a-9c51-5ccf07f66b31"
      },
      "source": [
        "print(stocks['MSFT.US'])"
      ],
      "execution_count": null,
      "outputs": [
        {
          "output_type": "stream",
          "name": "stdout",
          "text": [
            "{'Microsoft Corp': 190}\n"
          ]
        }
      ]
    },
    {
      "cell_type": "code",
      "metadata": {
        "id": "ZId039o0pU0J"
      },
      "source": [
        "stocks['V.US'] = {'Visa Inc': 185}"
      ],
      "execution_count": null,
      "outputs": []
    },
    {
      "cell_type": "code",
      "metadata": {
        "colab": {
          "base_uri": "https://localhost:8080/"
        },
        "id": "-sNpKxW9ps_m",
        "outputId": "c3c77a13-bed4-48e4-f606-ab4b95cd9c38"
      },
      "source": [
        "print(stocks)"
      ],
      "execution_count": null,
      "outputs": [
        {
          "output_type": "stream",
          "name": "stdout",
          "text": [
            "{'MSFT.US': {'Microsoft Corp': 190}, 'AAPL.US': {'Apple Inc': 310}, 'MMM.US': {'3M Co': 148}, 'V.US': {'Visa Inc': 185}}\n"
          ]
        }
      ]
    },
    {
      "cell_type": "code",
      "metadata": {
        "colab": {
          "base_uri": "https://localhost:8080/"
        },
        "id": "v3cYuwT2pvK7",
        "outputId": "e619155f-e87e-4fa7-9fc8-86e680ff1c97"
      },
      "source": [
        "print(stocks.values())"
      ],
      "execution_count": null,
      "outputs": [
        {
          "output_type": "stream",
          "name": "stdout",
          "text": [
            "dict_values([{'Microsoft Corp': 190}, {'Apple Inc': 310}, {'3M Co': 148}, {'Visa Inc': 185}])\n"
          ]
        }
      ]
    },
    {
      "cell_type": "code",
      "metadata": {
        "colab": {
          "base_uri": "https://localhost:8080/"
        },
        "id": "lMXF_Bz5pzRj",
        "outputId": "98a02f28-cdf6-4679-8960-8ebb2baae014"
      },
      "source": [
        "stocks['V.US'] = {'Visa Inc': 185}\n",
        "print(stocks.values())"
      ],
      "execution_count": null,
      "outputs": [
        {
          "output_type": "stream",
          "name": "stdout",
          "text": [
            "dict_values([{'Microsoft Corp': 190}, {'Apple Inc': 310}, {'3M Co': 148}, {'Visa Inc': 185}])\n"
          ]
        }
      ]
    },
    {
      "cell_type": "code",
      "metadata": {
        "colab": {
          "base_uri": "https://localhost:8080/"
        },
        "id": "cY8giktGp62s",
        "outputId": "4bd151cf-1f8e-459f-b8b6-3521c0201bc8"
      },
      "source": [
        "tickers = [\n",
        "    'AAPL.US', 'AXP.US', 'BA.US', 'CAT.US',\n",
        "    'CSCO.US', 'CVX.US', 'DIS.US', 'DOW.US',\n",
        "    'GS.US', 'HD.US', 'IBM.US', 'INTC.US'\n",
        "]\n",
        "print(tuple(tickers))\n"
      ],
      "execution_count": null,
      "outputs": [
        {
          "output_type": "stream",
          "name": "stdout",
          "text": [
            "('AAPL.US', 'AXP.US', 'BA.US', 'CAT.US', 'CSCO.US', 'CVX.US', 'DIS.US', 'DOW.US', 'GS.US', 'HD.US', 'IBM.US', 'INTC.US')\n"
          ]
        }
      ]
    },
    {
      "cell_type": "code",
      "metadata": {
        "colab": {
          "base_uri": "https://localhost:8080/"
        },
        "id": "v0mjF1kGqSUd",
        "outputId": "28b25d71-8a38-42a0-aedb-91737a3024d7"
      },
      "source": [
        "tickers_tuples = []\n",
        "for i in range(len(tickers)):\n",
        "  #print(f\"i={i}, {tickers[0]}\")\n",
        "  tickers_tuples.append((i,tickers[i]))\n",
        "print(tickers_tuples)\n",
        "print(list(enumerate(tickers)))"
      ],
      "execution_count": null,
      "outputs": [
        {
          "output_type": "stream",
          "name": "stdout",
          "text": [
            "[(0, 'AAPL.US'), (1, 'AXP.US'), (2, 'BA.US'), (3, 'CAT.US'), (4, 'CSCO.US'), (5, 'CVX.US'), (6, 'DIS.US'), (7, 'DOW.US'), (8, 'GS.US'), (9, 'HD.US'), (10, 'IBM.US'), (11, 'INTC.US')]\n",
            "[(0, 'AAPL.US'), (1, 'AXP.US'), (2, 'BA.US'), (3, 'CAT.US'), (4, 'CSCO.US'), (5, 'CVX.US'), (6, 'DIS.US'), (7, 'DOW.US'), (8, 'GS.US'), (9, 'HD.US'), (10, 'IBM.US'), (11, 'INTC.US')]\n"
          ]
        }
      ]
    },
    {
      "cell_type": "code",
      "metadata": {
        "colab": {
          "base_uri": "https://localhost:8080/"
        },
        "id": "YOCf5UH2raJV",
        "outputId": "6dd2e656-8731-492d-f8e4-5e7633965625"
      },
      "source": [
        "print(enumerate(tickers))"
      ],
      "execution_count": null,
      "outputs": [
        {
          "output_type": "stream",
          "name": "stdout",
          "text": [
            "<enumerate object at 0x7f7edd064690>\n"
          ]
        }
      ]
    },
    {
      "cell_type": "code",
      "metadata": {
        "colab": {
          "base_uri": "https://localhost:8080/"
        },
        "id": "W6REuM0dvbPl",
        "outputId": "c5b6d756-240e-4586-ebd5-9c21123a8dc5"
      },
      "source": [
        "for count, value in enumerate(tickers):\n",
        "  print(count, value)"
      ],
      "execution_count": null,
      "outputs": [
        {
          "output_type": "stream",
          "name": "stdout",
          "text": [
            "0 AAPL.US\n",
            "1 AXP.US\n",
            "2 BA.US\n",
            "3 CAT.US\n",
            "4 CSCO.US\n",
            "5 CVX.US\n",
            "6 DIS.US\n",
            "7 DOW.US\n",
            "8 GS.US\n",
            "9 HD.US\n",
            "10 IBM.US\n",
            "11 INTC.US\n"
          ]
        }
      ]
    },
    {
      "cell_type": "code",
      "metadata": {
        "id": "IyQxPMHJvxxV"
      },
      "source": [
        "project_ids = {\n",
        "    '01': 'open', \n",
        "    '03': 'in progress',\n",
        "    '05': 'in progress',\n",
        "    '04': 'completed'\n",
        "}\n",
        "result = list(set(project_ids.values()))\n",
        "result.sort()"
      ],
      "execution_count": null,
      "outputs": []
    },
    {
      "cell_type": "code",
      "metadata": {
        "colab": {
          "base_uri": "https://localhost:8080/"
        },
        "id": "wzY30UxHAjL8",
        "outputId": "d4089290-35f8-43fa-fcf6-a2d4144556a6"
      },
      "source": [
        "print(result)"
      ],
      "execution_count": null,
      "outputs": [
        {
          "output_type": "stream",
          "name": "stdout",
          "text": [
            "['completed', 'in progress', 'open']\n"
          ]
        }
      ]
    },
    {
      "cell_type": "code",
      "metadata": {
        "id": "NiOogz-zB-HU"
      },
      "source": [
        "stats = {'site': 'e-smartdata.org', 'traffic': 100, 'type': 'organic'}\n",
        "del stats['traffic']"
      ],
      "execution_count": null,
      "outputs": []
    },
    {
      "cell_type": "code",
      "metadata": {
        "colab": {
          "base_uri": "https://localhost:8080/"
        },
        "id": "FtPimcLnFN6x",
        "outputId": "2030ca68-ae1d-4ca4-9a7d-7fef163a8dd6"
      },
      "source": [
        "print(stats)"
      ],
      "execution_count": null,
      "outputs": [
        {
          "output_type": "stream",
          "name": "stdout",
          "text": [
            "{'site': 'e-smartdata.org', 'type': 'organic'}\n"
          ]
        }
      ]
    },
    {
      "cell_type": "code",
      "metadata": {
        "colab": {
          "base_uri": "https://localhost:8080/",
          "height": 35
        },
        "id": "uV3jYbYcFh__",
        "outputId": "ce428ac3-2723-4309-e541-f316b5cfec6c"
      },
      "source": [
        "users = {'001': 'Mark', '002': 'Monica', '003': 'Jacob'}\n",
        "users.get('004', 'indefinite')"
      ],
      "execution_count": null,
      "outputs": [
        {
          "output_type": "execute_result",
          "data": {
            "application/vnd.google.colaboratory.intrinsic+json": {
              "type": "string"
            },
            "text/plain": [
              "'indefinite'"
            ]
          },
          "metadata": {},
          "execution_count": 114
        }
      ]
    },
    {
      "cell_type": "code",
      "metadata": {
        "colab": {
          "base_uri": "https://localhost:8080/"
        },
        "id": "Hb9aVISaF2NY",
        "outputId": "d6dd8f29-9de7-471a-fb99-503667b25271"
      },
      "source": [
        "filename = '01012020_sales.xlsx'\n",
        "if filename[-4:] == 'xlsx':\n",
        "  print('YES')\n",
        "else:\n",
        "  print('NO')"
      ],
      "execution_count": null,
      "outputs": [
        {
          "output_type": "stream",
          "name": "stdout",
          "text": [
            "YES\n"
          ]
        }
      ]
    },
    {
      "cell_type": "code",
      "metadata": {
        "colab": {
          "base_uri": "https://localhost:8080/"
        },
        "id": "JyJLpy8LGNmZ",
        "outputId": "fc1c0df6-5c0e-456a-8319-8f649995c630"
      },
      "source": [
        "code = 'DSVNDOICSN'\n",
        "if code.isupper():\n",
        "  print('YES')\n",
        "else:\n",
        "  print('NO')"
      ],
      "execution_count": null,
      "outputs": [
        {
          "output_type": "stream",
          "name": "stdout",
          "text": [
            "YES\n"
          ]
        }
      ]
    },
    {
      "cell_type": "code",
      "metadata": {
        "colab": {
          "base_uri": "https://localhost:8080/"
        },
        "id": "tWgSUsa8HBqD",
        "outputId": "3838f003-8311-46a1-d2a6-037eb78988a2"
      },
      "source": [
        "number = 1.0\n",
        "if isinstance(number, int):\n",
        "  print('YES')\n",
        "else:\n",
        "  print('NO')"
      ],
      "execution_count": null,
      "outputs": [
        {
          "output_type": "stream",
          "name": "stdout",
          "text": [
            "NO\n"
          ]
        }
      ]
    },
    {
      "cell_type": "code",
      "metadata": {
        "colab": {
          "base_uri": "https://localhost:8080/"
        },
        "id": "bSYlhnqwH0Ol",
        "outputId": "1ffb8ebf-b3db-4e55-840c-a182c28ae298"
      },
      "source": [
        "password = 'cskdnjcasa#!'\n",
        "if len(password) >= 11:\n",
        "  print('Password correct')\n",
        "else:\n",
        "  \n",
        "    print('Password too short')\n",
        "  "
      ],
      "execution_count": null,
      "outputs": [
        {
          "output_type": "stream",
          "name": "stdout",
          "text": [
            "Password correct\n"
          ]
        }
      ]
    },
    {
      "cell_type": "code",
      "metadata": {
        "colab": {
          "base_uri": "https://localhost:8080/"
        },
        "id": "bO8PF3kdIApE",
        "outputId": "f2e6555f-acae-4681-be6f-f5d740c626e8"
      },
      "source": [
        "project_ids = ['02134', '24253']\n",
        "project_id = '02135'\n",
        "if project_ids.count(project_id) == 0:\n",
        "  project_ids.append(project_id)\n",
        "print(project_ids)"
      ],
      "execution_count": null,
      "outputs": [
        {
          "output_type": "stream",
          "name": "stdout",
          "text": [
            "['02134', '24253', '02135']\n"
          ]
        }
      ]
    },
    {
      "cell_type": "code",
      "metadata": {
        "colab": {
          "base_uri": "https://localhost:8080/"
        },
        "id": "OqfVT63KIXWd",
        "outputId": "eca9b39a-a3d3-4b42-f2e0-7f560d316c0f"
      },
      "source": [
        "item = '001'\n",
        "items = ['001', '000', '003', '005', '006']\n",
        "if items.count(item) > 0:\n",
        "  items.remove(item)\n",
        "print(items)"
      ],
      "execution_count": null,
      "outputs": [
        {
          "output_type": "stream",
          "name": "stdout",
          "text": [
            "['000', '003', '005', '006']\n"
          ]
        }
      ]
    },
    {
      "cell_type": "code",
      "metadata": {
        "colab": {
          "base_uri": "https://localhost:8080/"
        },
        "id": "kpDrDhSBKClz",
        "outputId": "c6960757-7533-4e78-cb20-d4f84897ad57"
      },
      "source": [
        "result = []\n",
        "for i in range(10, 100):\n",
        "  if i % 11 == 0:\n",
        "    result.append(str(i))\n",
        "print(','.join(result))"
      ],
      "execution_count": null,
      "outputs": [
        {
          "output_type": "stream",
          "name": "stdout",
          "text": [
            "11,22,33,44,55,66,77,88,99\n"
          ]
        }
      ]
    },
    {
      "cell_type": "code",
      "metadata": {
        "colab": {
          "base_uri": "https://localhost:8080/"
        },
        "id": "ZMhoSHuXK-7T",
        "outputId": "dd8ce3f0-c18f-447b-df77-535e9e52d25f"
      },
      "source": [
        "result = []\n",
        "for i in range(10, 89):\n",
        "  if i % 11 == 0 and i % 3 != 0:\n",
        "    result.append(str(i))\n",
        "print(','.join(result))"
      ],
      "execution_count": null,
      "outputs": [
        {
          "output_type": "stream",
          "name": "stdout",
          "text": [
            "11,22,44,55,77,88\n"
          ]
        }
      ]
    },
    {
      "cell_type": "code",
      "metadata": {
        "colab": {
          "base_uri": "https://localhost:8080/"
        },
        "id": "1lGrK_RALqre",
        "outputId": "fcccccbc-d3e0-424d-d48b-0620136e97f8"
      },
      "source": [
        "result = []\n",
        "items = [1, 3, 4, 5, 6, 9, 10, 17, 23, 24]\n",
        "for i in items:\n",
        "  if i % 2 ==0:\n",
        "    result.append(i)\n",
        "print(result)"
      ],
      "execution_count": null,
      "outputs": [
        {
          "output_type": "stream",
          "name": "stdout",
          "text": [
            "[4, 6, 10, 24]\n"
          ]
        }
      ]
    },
    {
      "cell_type": "code",
      "metadata": {
        "colab": {
          "base_uri": "https://localhost:8080/"
        },
        "id": "Ydv0h59IMO53",
        "outputId": "16f54d8c-3d06-4ebd-caeb-40b20d7ae0f0"
      },
      "source": [
        "items = [1, 5, 3, 2, 2, 4, 2, 4]\n",
        "sorted(list(set(items)))"
      ],
      "execution_count": null,
      "outputs": [
        {
          "output_type": "execute_result",
          "data": {
            "text/plain": [
              "[1, 2, 3, 4, 5]"
            ]
          },
          "metadata": {},
          "execution_count": 143
        }
      ]
    },
    {
      "cell_type": "code",
      "metadata": {
        "colab": {
          "base_uri": "https://localhost:8080/"
        },
        "id": "2dopVLStN1pB",
        "outputId": "a4c7af87-738b-430a-acef-59a0e6a2b7d9"
      },
      "source": [
        "text = 'Python is a very popular programming language'\n",
        "text = text.lower()\n",
        "result = []\n",
        "items = text.split(' ')\n",
        "for i, value in enumerate(items):\n",
        "  if i < 4:\n",
        "    result.append(value)\n",
        "print(result)"
      ],
      "execution_count": null,
      "outputs": [
        {
          "output_type": "stream",
          "name": "stdout",
          "text": [
            "['python', 'is', 'a', 'very']\n"
          ]
        }
      ]
    },
    {
      "cell_type": "code",
      "metadata": {
        "colab": {
          "base_uri": "https://localhost:8080/"
        },
        "id": "l86FFRayPuNt",
        "outputId": "a0d69634-2352-45e6-815f-f0e938ff0d74"
      },
      "source": [
        "items = ['x', 'y', 'z', 'y', 'x', 'y', 'y', 'z', 'x']\n",
        "result = {'x':items.count('x'), 'y':items.count('y'), 'z':items.count('z')}\n",
        "print(result)"
      ],
      "execution_count": null,
      "outputs": [
        {
          "output_type": "stream",
          "name": "stdout",
          "text": [
            "{'x': 3, 'y': 4, 'z': 2}\n"
          ]
        }
      ]
    },
    {
      "cell_type": "code",
      "metadata": {
        "colab": {
          "base_uri": "https://localhost:8080/"
        },
        "id": "fZR3AQCyQn_p",
        "outputId": "6732c710-eab5-4cac-dcd5-0c07f65dcb92"
      },
      "source": [
        "freq = {}\n",
        "for item in items:\n",
        "  if item not in freq.keys():\n",
        "    freq[item] = 1\n",
        "  else:\n",
        "    freq[item] += 1\n",
        "print(freq)"
      ],
      "execution_count": null,
      "outputs": [
        {
          "output_type": "stream",
          "name": "stdout",
          "text": [
            "{'x': 3, 'y': 4, 'z': 2}\n"
          ]
        }
      ]
    },
    {
      "cell_type": "code",
      "metadata": {
        "colab": {
          "base_uri": "https://localhost:8080/"
        },
        "id": "YFk3ccEeRms2",
        "outputId": "46a5b940-95ef-48a7-9662-a51a960faf9d"
      },
      "source": [
        "text = \"\"\"Python is powerful... and fast plays well with others runs everywhere is friendly & easy to learn is Open These are some of the reasons people who use Python would rather not use anything else\"\"\"\n",
        "text = text.lower()\n",
        "text = text.replace('...', '')\n",
        "text = text.replace('&', '')\n",
        "#text = text.replace('\\n', ' ')\n",
        "items = text.split(' ')\n",
        "result = []\n",
        "for item in items:\n",
        "  if len(item) > 6:\n",
        "    result.append(item)\n",
        "print(result)\n"
      ],
      "execution_count": null,
      "outputs": [
        {
          "output_type": "stream",
          "name": "stdout",
          "text": [
            "['powerful', 'everywhere', 'friendly', 'reasons', 'anything']\n"
          ]
        }
      ]
    },
    {
      "cell_type": "code",
      "metadata": {
        "colab": {
          "base_uri": "https://localhost:8080/"
        },
        "id": "4VxCdlxHTLp6",
        "outputId": "7decc56c-b89c-4583-8135-6a2f98653611"
      },
      "source": [
        "words = text.split()\n",
        "words = [word.lower() for word in words]\n",
        "words = [word.replace('.', '').replace(',', '') for word in words]\n",
        "words = [word for word in words if len(word) > 6]\n",
        "print(words)"
      ],
      "execution_count": null,
      "outputs": [
        {
          "output_type": "stream",
          "name": "stdout",
          "text": [
            "['powerful', 'everywhere', 'friendly', 'reasons', 'anything']\n"
          ]
        }
      ]
    },
    {
      "cell_type": "code",
      "metadata": {
        "colab": {
          "base_uri": "https://localhost:8080/"
        },
        "id": "y6hmUhLNTokM",
        "outputId": "2ccb42af-c4e1-4e61-bd2c-8b7b8795a05f"
      },
      "source": [
        "gaming = {\n",
        "    '11B': 362.5,\n",
        "    'CDR': 297.0,\n",
        "    'CIG': 0.85,\n",
        "    'PLW': 318.0,\n",
        "    'TEN': 300.0\n",
        "}\n",
        "\n",
        "for i, value in gaming.items():\n",
        "  if value > 100.00:\n",
        "    print(i)"
      ],
      "execution_count": null,
      "outputs": [
        {
          "output_type": "stream",
          "name": "stdout",
          "text": [
            "11B\n",
            "CDR\n",
            "PLW\n",
            "TEN\n"
          ]
        }
      ]
    },
    {
      "cell_type": "code",
      "metadata": {
        "colab": {
          "base_uri": "https://localhost:8080/"
        },
        "id": "ZuJePwLdUQKY",
        "outputId": "d2829a10-1f22-476d-ce74-cbf383a625c8"
      },
      "source": [
        "names = ['Jack', 'Leon', 'Alice', '32-3c', 'Bob']\n",
        "for name in names:\n",
        "  name = str(name)\n",
        "  if name.isalpha():\n",
        "    print(f\"Hello {name}\")"
      ],
      "execution_count": null,
      "outputs": [
        {
          "output_type": "stream",
          "name": "stdout",
          "text": [
            "Hello Jack\n",
            "Hello Leon\n",
            "Hello Alice\n",
            "Hello Bob\n"
          ]
        }
      ]
    },
    {
      "cell_type": "code",
      "metadata": {
        "colab": {
          "base_uri": "https://localhost:8080/"
        },
        "id": "oCHvNXg4U4pB",
        "outputId": "3a4d3727-d09b-4ed0-c62d-3bede4112b80"
      },
      "source": [
        "list1 = [1, 2, 0]\n",
        "list2 = [4, 5, 6, 1]\n",
        "list1_set = set(list1)\n",
        "list2_set = set(list2)\n",
        "print(list(list1_set.intersection(list2_set)))\n",
        "result = list(set(list1) & set(list2))\n",
        "print(result)\n",
        "if len(result) > 0:\n",
        "  print(True)\n",
        "else:\n",
        "  print(False)"
      ],
      "execution_count": null,
      "outputs": [
        {
          "output_type": "stream",
          "name": "stdout",
          "text": [
            "[1]\n",
            "[1]\n",
            "True\n"
          ]
        }
      ]
    },
    {
      "cell_type": "code",
      "metadata": {
        "colab": {
          "base_uri": "https://localhost:8080/"
        },
        "id": "vkb-KaTnVnV5",
        "outputId": "5f4a49f1-b39e-41e5-9d99-795e4e1bbe0b"
      },
      "source": [
        "print(result)"
      ],
      "execution_count": null,
      "outputs": [
        {
          "output_type": "stream",
          "name": "stdout",
          "text": [
            "[1]\n"
          ]
        }
      ]
    },
    {
      "cell_type": "code",
      "metadata": {
        "colab": {
          "base_uri": "https://localhost:8080/"
        },
        "id": "UGxWewy9Vpb3",
        "outputId": "703e177e-39b3-44b3-d30c-fb44b6f21437"
      },
      "source": [
        "list1 = [1, 2, 0]\n",
        "list2 = [4, 5, 6, 1]\n",
        "result = False\n",
        " \n",
        "for item1 in list1:\n",
        "    if item1 in list2:\n",
        "        result = True\n",
        "        break\n",
        " \n",
        "print(result)"
      ],
      "execution_count": null,
      "outputs": [
        {
          "output_type": "stream",
          "name": "stdout",
          "text": [
            "True\n"
          ]
        }
      ]
    },
    {
      "cell_type": "code",
      "metadata": {
        "colab": {
          "base_uri": "https://localhost:8080/"
        },
        "id": "ris7SvNBXYqy",
        "outputId": "7338f896-61bb-4356-d50d-23bb1805bf37"
      },
      "source": [
        "number = 100\n",
        " \n",
        "if number > 1:\n",
        "    for i in range(2, number):\n",
        "        if number % i == 0:\n",
        "            print(f'{number} - not a prime number')\n",
        "            break\n",
        "    else:\n",
        "        print(f'{number} - prime number')\n",
        "else:\n",
        "    print(f'{number} - not a prime number')"
      ],
      "execution_count": null,
      "outputs": [
        {
          "output_type": "stream",
          "name": "stdout",
          "text": [
            "100 - not a prime number\n"
          ]
        }
      ]
    },
    {
      "cell_type": "code",
      "metadata": {
        "colab": {
          "base_uri": "https://localhost:8080/"
        },
        "id": "LsjYQcOEqJoN",
        "outputId": "4c1e1896-0fc6-4f48-e677-169fd1406956"
      },
      "source": [
        "for num in range(2,10):\n",
        "    prime = True\n",
        "    for i in range(2,num):\n",
        "        if (num%i==0):\n",
        "            prime = False\n",
        "    if prime:\n",
        "       print (num)"
      ],
      "execution_count": null,
      "outputs": [
        {
          "output_type": "stream",
          "name": "stdout",
          "text": [
            "2\n",
            "3\n",
            "5\n",
            "7\n"
          ]
        }
      ]
    },
    {
      "cell_type": "code",
      "metadata": {
        "colab": {
          "base_uri": "https://localhost:8080/"
        },
        "id": "3KbAs2IGrypW",
        "outputId": "f7364745-b722-49da-b62e-4ebe9cee9f0a"
      },
      "source": [
        "def prime_generator(end):\n",
        "  for n in range(2, end):     # n starts from 2 to end\n",
        "    for x in range(2, n):   # check if x can be divided by n\n",
        "      if n % x == 0:      # if true then n is not prime\n",
        "        break\n",
        "    else:                   # if x is found after exhausting all values of x\n",
        "      yield n  \n",
        "\n",
        "g = prime_generator(10)  \n",
        "print(list(g))"
      ],
      "execution_count": null,
      "outputs": [
        {
          "output_type": "stream",
          "name": "stdout",
          "text": [
            "[2, 3, 5, 7]\n"
          ]
        }
      ]
    },
    {
      "cell_type": "code",
      "metadata": {
        "colab": {
          "base_uri": "https://localhost:8080/"
        },
        "id": "CNfzLwZKs6eH",
        "outputId": "2d2966d1-7b2b-4417-e864-1c372b253ed0"
      },
      "source": [
        "gaming = {\n",
        "    '11B': [362.5, 'PLN'],\n",
        "    'CDR': [74.25, 'USD'],\n",
        "    'CIG': [0.85, 'PLN'],\n",
        "    'PLW': [79.5, 'USD'],\n",
        "    'TEN': [300.0, 'PLN']\n",
        "}\n",
        " \n",
        "for ticker, info in gaming.items():\n",
        "    if info[1] == 'PLN':\n",
        "        continue\n",
        "    info[0] = info[0] * 4.0\n",
        "    info[1] = 'PLN'\n",
        "print(gaming)"
      ],
      "execution_count": null,
      "outputs": [
        {
          "output_type": "stream",
          "name": "stdout",
          "text": [
            "{'11B': [362.5, 'PLN'], 'CDR': [297.0, 'PLN'], 'CIG': [0.85, 'PLN'], 'PLW': [318.0, 'PLN'], 'TEN': [300.0, 'PLN']}\n"
          ]
        }
      ]
    },
    {
      "cell_type": "code",
      "metadata": {
        "colab": {
          "base_uri": "https://localhost:8080/"
        },
        "id": "jwf-iv-mwEqH",
        "outputId": "9cbbad9c-01f8-4097-8d72-3b3f64f7cc89"
      },
      "source": [
        "is_prime = False\n",
        "result = []\n",
        "for n in range(2, 30):  \n",
        "    is_prime = True   \n",
        "    for x in range(2, n):   \n",
        "      if n % x == 0:    \n",
        "        is_prime = False\n",
        "        break\n",
        "    if is_prime == True:\n",
        "       result.append(str(n))\n",
        "                     \n",
        "        \n",
        "sre = ','.join(result)\n",
        "print(sre)  \n",
        "\n",
        "result = []\n",
        "for num in range(2,30):\n",
        "    prime = True\n",
        "    for i in range(2,num):\n",
        "        if (num%i==0):\n",
        "            prime = False\n",
        "            break\n",
        "    if prime:\n",
        "      result.append(str(num))\n",
        "sre = ','.join(result)\n",
        "print(sre) "
      ],
      "execution_count": null,
      "outputs": [
        {
          "output_type": "stream",
          "name": "stdout",
          "text": [
            "2,3,5,7,11,13,17,19,23,29\n",
            "2,3,5,7,11,13,17,19,23,29\n"
          ]
        }
      ]
    },
    {
      "cell_type": "code",
      "metadata": {
        "colab": {
          "base_uri": "https://localhost:8080/"
        },
        "id": "RuwI2M7Kw68c",
        "outputId": "0efab11f-e249-44cd-a11d-af7aa894768e"
      },
      "source": [
        "for num in range(2,3):\n",
        "  print(num)"
      ],
      "execution_count": null,
      "outputs": [
        {
          "output_type": "stream",
          "name": "stdout",
          "text": [
            "2\n"
          ]
        }
      ]
    },
    {
      "cell_type": "code",
      "metadata": {
        "colab": {
          "base_uri": "https://localhost:8080/"
        },
        "id": "WKThmGQN1AMZ",
        "outputId": "6cabce42-9638-4c7a-9f7d-7a152e56a595"
      },
      "source": [
        "list1 = [4, 5, 6, 1]\n",
        "print(list1[-1:])"
      ],
      "execution_count": null,
      "outputs": [
        {
          "output_type": "stream",
          "name": "stdout",
          "text": [
            "[1]\n"
          ]
        }
      ]
    },
    {
      "cell_type": "code",
      "metadata": {
        "id": "t6DyQfLtuhpi"
      },
      "source": [
        "content = ['date, Open, High,Low,Close,Volume', '2020-03-02,305,324.5,283.5,310,64081','2020-03-03,325.5,340.5,320,340.5,55496']\n",
        "volumes = [line.split(',')[-1] for line in content][1:]"
      ],
      "execution_count": null,
      "outputs": []
    },
    {
      "cell_type": "code",
      "metadata": {
        "colab": {
          "base_uri": "https://localhost:8080/"
        },
        "id": "I3ND9hxOwRO4",
        "outputId": "cf35d721-0c2e-4553-d12f-81171855bd8e"
      },
      "source": [
        "print(volumes)"
      ],
      "execution_count": null,
      "outputs": [
        {
          "output_type": "stream",
          "name": "stdout",
          "text": [
            "['Volume', '64081', '55496']\n"
          ]
        }
      ]
    },
    {
      "cell_type": "code",
      "metadata": {
        "colab": {
          "base_uri": "https://localhost:8080/"
        },
        "id": "mAojmXLPwYhl",
        "outputId": "1aff41d9-1a5b-4e13-9e01-f7d5cca8502d"
      },
      "source": [
        "line = 'date, Open, High,Low,Close,Volume'\n",
        "print(line.split(',')[-1])"
      ],
      "execution_count": null,
      "outputs": [
        {
          "output_type": "stream",
          "name": "stdout",
          "text": [
            "Volume\n"
          ]
        }
      ]
    },
    {
      "cell_type": "markdown",
      "metadata": {
        "id": "lUp9RdrMylHg"
      },
      "source": [
        "##Learning Slicing"
      ]
    },
    {
      "cell_type": "code",
      "metadata": {
        "colab": {
          "base_uri": "https://localhost:8080/"
        },
        "id": "_lRq0juYw_o0",
        "outputId": "e9e0eb86-fb7a-4390-be70-73dd2e24949c"
      },
      "source": [
        "lst = [1,2,3,4,5,6,7,8,9,10]\n",
        "tpl0 = tuple(lst)\n",
        "tpl = (1,2,3,4,5,6,7,8,9,10)\n",
        "s = 'Welcome to simplilearn'\n",
        "print(lst)\n",
        "print(tpl)\n",
        "print(s)"
      ],
      "execution_count": null,
      "outputs": [
        {
          "output_type": "stream",
          "name": "stdout",
          "text": [
            "[1, 2, 3, 4, 5, 6, 7, 8, 9, 10]\n",
            "(1, 2, 3, 4, 5, 6, 7, 8, 9, 10)\n",
            "Welcome to simplilearn\n"
          ]
        }
      ]
    },
    {
      "cell_type": "code",
      "metadata": {
        "colab": {
          "base_uri": "https://localhost:8080/"
        },
        "id": "WJ_he95BzCFx",
        "outputId": "e893beba-0740-4607-9672-ae7679e5226c"
      },
      "source": [
        "print('0=',lst[0])\n",
        "print('9=',lst[9])\n",
        "print('5=',lst[5])\n",
        "print('-3=',lst[-3])"
      ],
      "execution_count": null,
      "outputs": [
        {
          "output_type": "stream",
          "name": "stdout",
          "text": [
            "0= 1\n",
            "9= 10\n",
            "5= 6\n",
            "-3= 8\n"
          ]
        }
      ]
    },
    {
      "cell_type": "code",
      "metadata": {
        "colab": {
          "base_uri": "https://localhost:8080/"
        },
        "id": "altXMBYd1P9c",
        "outputId": "4730b9fa-6fcc-4f21-dc8b-6210bc7fea46"
      },
      "source": [
        "print(lst[len(lst)-1])"
      ],
      "execution_count": null,
      "outputs": [
        {
          "output_type": "execute_result",
          "data": {
            "text/plain": [
              "10"
            ]
          },
          "metadata": {},
          "execution_count": 21
        }
      ]
    },
    {
      "cell_type": "code",
      "metadata": {
        "colab": {
          "base_uri": "https://localhost:8080/"
        },
        "id": "DcZPokm81fvL",
        "outputId": "1c01514f-3471-47b5-b41c-d2b29b14a6ef"
      },
      "source": [
        "lst[-1]"
      ],
      "execution_count": null,
      "outputs": [
        {
          "output_type": "execute_result",
          "data": {
            "text/plain": [
              "10"
            ]
          },
          "metadata": {},
          "execution_count": 22
        }
      ]
    },
    {
      "cell_type": "code",
      "metadata": {
        "colab": {
          "base_uri": "https://localhost:8080/"
        },
        "id": "cgZd4dMo1oXY",
        "outputId": "e19b541e-957f-46bb-a64e-8d7e025fb36e"
      },
      "source": [
        "print('[0:3]=',lst[0:3])\n",
        "print('[3:9]=',lst[3:9])\n",
        "print('[3:10]=',lst[3:10])\n",
        "print('[0:-1]=',lst[0:-1])\n",
        "print('[0:]=',lst[0:])\n",
        "print('[-3:-1]=',lst[-3:-1])\n",
        "print('[:]=',lst[:])"
      ],
      "execution_count": null,
      "outputs": [
        {
          "output_type": "stream",
          "name": "stdout",
          "text": [
            "[0:3]= [1, 2, 3]\n",
            "[3:9]= [4, 5, 6, 7, 8, 9]\n",
            "[3:10]= [4, 5, 6, 7, 8, 9, 10]\n",
            "[0:-1]= [1, 2, 3, 4, 5, 6, 7, 8, 9]\n",
            "[0:]= [1, 2, 3, 4, 5, 6, 7, 8, 9, 10]\n",
            "[-3:-1]= [8, 9]\n",
            "[:]= [1, 2, 3, 4, 5, 6, 7, 8, 9, 10]\n"
          ]
        }
      ]
    },
    {
      "cell_type": "code",
      "metadata": {
        "colab": {
          "base_uri": "https://localhost:8080/"
        },
        "id": "tV-dwWn22Qla",
        "outputId": "46175e70-8739-40e8-a343-1968443ab772"
      },
      "source": [
        "print('[::2]=',lst[::2]) #step = 2\n",
        "print('[::-2]=',lst[::-2])\n",
        "print('[-2::-2]=',lst[-2::-2])\n",
        "print('[::-1]=',lst[::-1]) #reverse\n",
        "print('tuple reverse [::-1]=',tpl[::-1]) #reverse tuple"
      ],
      "execution_count": null,
      "outputs": [
        {
          "output_type": "stream",
          "name": "stdout",
          "text": [
            "[::2]= [1, 3, 5, 7, 9]\n",
            "[::-2]= [10, 8, 6, 4, 2]\n",
            "[-2::-2]= [9, 7, 5, 3, 1]\n",
            "[::-1]= [10, 9, 8, 7, 6, 5, 4, 3, 2, 1]\n",
            "tuple reverse [::-1]= (10, 9, 8, 7, 6, 5, 4, 3, 2, 1)\n"
          ]
        }
      ]
    },
    {
      "cell_type": "code",
      "metadata": {
        "colab": {
          "base_uri": "https://localhost:8080/"
        },
        "id": "Q6P1oyum5Kzq",
        "outputId": "348efa80-72b4-4ad5-b88f-c7e39c1bf328"
      },
      "source": [
        "welcome = 'Welcome to simplilearn'\n",
        "print(welcome[0])\n",
        "print(welcome[11:])\n",
        "print(welcome[::-1]) #reverse string"
      ],
      "execution_count": null,
      "outputs": [
        {
          "output_type": "stream",
          "name": "stdout",
          "text": [
            "W\n",
            "simplilearn\n",
            "nraelilpmis ot emocleW\n"
          ]
        }
      ]
    },
    {
      "cell_type": "code",
      "metadata": {
        "colab": {
          "base_uri": "https://localhost:8080/"
        },
        "id": "5AysAg-87m5s",
        "outputId": "ec31450b-f815-421b-c874-32b4f889b433"
      },
      "source": [
        "mySlice = slice(1,5,2)\n",
        "print(lst)\n",
        "print(lst[mySlice])\n",
        "mySlice = slice(-1,-12,-1)\n",
        "print('lst',lst)\n",
        "print(lst[mySlice])"
      ],
      "execution_count": null,
      "outputs": [
        {
          "output_type": "stream",
          "name": "stdout",
          "text": [
            "[1, 2, 3, 4, 5, 6, 7, 8, 9, 10]\n",
            "[2, 4]\n",
            "lst [1, 2, 3, 4, 5, 6, 7, 8, 9, 10]\n",
            "[10, 9, 8, 7, 6, 5, 4, 3, 2, 1]\n"
          ]
        }
      ]
    },
    {
      "cell_type": "code",
      "metadata": {
        "colab": {
          "base_uri": "https://localhost:8080/"
        },
        "id": "_JaoCC2h8RmW",
        "outputId": "3e203168-2acf-4f40-a291-c28e9b637dd2"
      },
      "source": [
        "mySlice = slice(-1,-12,-1)\n",
        "print(welcome)\n",
        "print(welcome[mySlice])"
      ],
      "execution_count": null,
      "outputs": [
        {
          "output_type": "stream",
          "name": "stdout",
          "text": [
            "Welcome to simplilearn\n",
            "nraelilpmis\n"
          ]
        }
      ]
    },
    {
      "cell_type": "code",
      "metadata": {
        "colab": {
          "base_uri": "https://localhost:8080/"
        },
        "id": "2hmjOUWw-MD-",
        "outputId": "6286e543-d66f-4dbc-98af-4f627609dfbd"
      },
      "source": [
        "s = input('Enter a string: ') # Welcome to simplilearn\n",
        "sub = input('Enter a substring: ') # simplilearn\n",
        "print(s.find(sub))\n",
        "lstr = len(s)\n",
        "lsub = len(sub)\n",
        "print(lstr,lsub)"
      ],
      "execution_count": null,
      "outputs": [
        {
          "output_type": "stream",
          "name": "stdout",
          "text": [
            "Enter a string: Welcome to simplilearn\n",
            "Enter a substring: simplilearn\n",
            "11\n",
            "22 11\n"
          ]
        }
      ]
    },
    {
      "cell_type": "markdown",
      "metadata": {
        "id": "OpK58blcgXtR"
      },
      "source": [
        "##Exercices"
      ]
    },
    {
      "cell_type": "code",
      "metadata": {
        "colab": {
          "base_uri": "https://localhost:8080/"
        },
        "id": "vVL_nJB-ATZh",
        "outputId": "e78e25e4-c3ba-4790-bf64-e6facf613a1d"
      },
      "source": [
        "content = ['date, Open, High,Low,Close,Volume', '2020-03-02,305,324.5,283.5,310,64081','2020-03-03,325.5,340.5,320,340.5,55496']\n",
        "volumes = [line.split(',')[-1] for line in content][1:]\n",
        "volumes = [int(vol) for vol in volumes]\n",
        "max_vol = max(volumes)\n",
        "print(f'Max Vol: {max_vol}')"
      ],
      "execution_count": null,
      "outputs": [
        {
          "output_type": "stream",
          "name": "stdout",
          "text": [
            "Max Vol: 64081\n"
          ]
        }
      ]
    },
    {
      "cell_type": "code",
      "metadata": {
        "colab": {
          "base_uri": "https://localhost:8080/"
        },
        "id": "3op3U6P4gmAS",
        "outputId": "b6b51d3e-3aad-4a03-b58a-e194fbf2be21"
      },
      "source": [
        "data = [(line.split(',')[0], line.split(',')[-1]) for line in content][1:]\n",
        "data = [(val[0], int(val[1])) for val in data]\n",
        "max_vol = max([val[1] for val in data])\n",
        "max_date = list(filter(lambda val: val[1] == max_vol, data))[0][0]\n",
        "print(f'Date: {max_date}')"
      ],
      "execution_count": null,
      "outputs": [
        {
          "output_type": "stream",
          "name": "stdout",
          "text": [
            "Date: 2020-03-02\n"
          ]
        }
      ]
    },
    {
      "cell_type": "code",
      "metadata": {
        "colab": {
          "base_uri": "https://localhost:8080/"
        },
        "id": "ULMJmaVhhtDc",
        "outputId": "1915ee99-ab4d-477b-d5af-43b8c9c5aaa7"
      },
      "source": [
        "ticker = ('TEN', 'PLW', 'CDR')\n",
        "full_name = ('Ten Square Games', 'Playway', 'CD Projekt')\n",
        " \n",
        "print(list(zip(ticker, full_name)))"
      ],
      "execution_count": null,
      "outputs": [
        {
          "output_type": "stream",
          "name": "stdout",
          "text": [
            "[('TEN', 'Ten Square Games'), ('PLW', 'Playway'), ('CDR', 'CD Projekt')]\n"
          ]
        }
      ]
    },
    {
      "cell_type": "code",
      "metadata": {
        "colab": {
          "base_uri": "https://localhost:8080/"
        },
        "id": "HdydaL9Gib7c",
        "outputId": "e27cb7c8-d667-4a04-90a0-2eab12c746b9"
      },
      "source": [
        "items = (' ', '0', 0.1, True,0)\n",
        "print(all(items))"
      ],
      "execution_count": null,
      "outputs": [
        {
          "output_type": "stream",
          "name": "stdout",
          "text": [
            "False\n"
          ]
        }
      ]
    },
    {
      "cell_type": "code",
      "metadata": {
        "colab": {
          "base_uri": "https://localhost:8080/"
        },
        "id": "VlsuLX88jmGa",
        "outputId": "a54725e7-c918-4bb9-d8e8-160f13bcb52a"
      },
      "source": [
        "items = ('', 0.0, 0, False)\n",
        "print(any(items))"
      ],
      "execution_count": null,
      "outputs": [
        {
          "output_type": "stream",
          "name": "stdout",
          "text": [
            "False\n"
          ]
        }
      ]
    },
    {
      "cell_type": "code",
      "metadata": {
        "colab": {
          "base_uri": "https://localhost:8080/"
        },
        "id": "dsAGglJxkBAi",
        "outputId": "bd97e67a-0518-41fe-a486-4b2909c332cb"
      },
      "source": [
        "number = 234\n",
        "binary = bin(number)\n",
        "print(binary)\n",
        "binary = binary[2:]\n",
        "print(binary)\n",
        "print(binary.count('1'))"
      ],
      "execution_count": null,
      "outputs": [
        {
          "output_type": "stream",
          "name": "stdout",
          "text": [
            "0b11101010\n",
            "11101010\n",
            "5\n"
          ]
        }
      ]
    },
    {
      "cell_type": "code",
      "metadata": {
        "colab": {
          "base_uri": "https://localhost:8080/"
        },
        "id": "je2s5RXskVoK",
        "outputId": "ff3964a2-d969-4553-bd84-d9d9931dfbb7"
      },
      "source": [
        "def factorial(n):\n",
        "    if n == 0:\n",
        "        return 1\n",
        "    return n * factorial(n - 1)\n",
        "factorial(10)"
      ],
      "execution_count": null,
      "outputs": [
        {
          "output_type": "execute_result",
          "data": {
            "text/plain": [
              "3628800"
            ]
          },
          "metadata": {},
          "execution_count": 77
        }
      ]
    },
    {
      "cell_type": "code",
      "metadata": {
        "colab": {
          "base_uri": "https://localhost:8080/"
        },
        "id": "GdTmlrXblxZd",
        "outputId": "9a0c6a95-455a-4885-d362-aec5cd86e714"
      },
      "source": [
        " def count_str(items):\n",
        "    total = 0\n",
        "    for item in items:\n",
        "        if isinstance(item, str):\n",
        "            total += 1\n",
        "    return total\n",
        "lst = ['p',2,4.3,None]\n",
        "print(count_str(lst))"
      ],
      "execution_count": null,
      "outputs": [
        {
          "output_type": "stream",
          "name": "stdout",
          "text": [
            "1\n"
          ]
        }
      ]
    },
    {
      "cell_type": "code",
      "metadata": {
        "colab": {
          "base_uri": "https://localhost:8080/"
        },
        "id": "L05Sb58KmjYS",
        "outputId": "cd550fca-797a-42ba-a092-5d920ddc564c"
      },
      "source": [
        "def remove_duplicates(items):\n",
        "    return list(set(items))\n",
        "lst = ['p',2,2,2,4.3,None]\n",
        "remove_duplicates(lst)"
      ],
      "execution_count": null,
      "outputs": [
        {
          "output_type": "execute_result",
          "data": {
            "text/plain": [
              "[2, None, 4.3, 'p']"
            ]
          },
          "metadata": {},
          "execution_count": 80
        }
      ]
    },
    {
      "cell_type": "code",
      "metadata": {
        "colab": {
          "base_uri": "https://localhost:8080/"
        },
        "id": "s2vqONxlm4FC",
        "outputId": "376f3001-3b3e-43d4-e6f6-c0586e9f1fd7"
      },
      "source": [
        "def is_distinct(items):\n",
        "    return len(items) == len(set(items))\n",
        "is_distinct(lst)\n",
        "lst = ['p',2,4.3,None]\n",
        "is_distinct(lst)"
      ],
      "execution_count": null,
      "outputs": [
        {
          "output_type": "execute_result",
          "data": {
            "text/plain": [
              "True"
            ]
          },
          "metadata": {},
          "execution_count": 82
        }
      ]
    },
    {
      "cell_type": "code",
      "metadata": {
        "colab": {
          "base_uri": "https://localhost:8080/"
        },
        "id": "_Af5QNj7nJAS",
        "outputId": "b6bb0fcd-ed7b-408c-e236-bd0b1173cdc2"
      },
      "source": [
        "def function(idx, l=[]):\n",
        "    for i in range(idx):\n",
        "        l.append(i ** 3)\n",
        "    print(l)\n",
        "function(3)\n",
        "function(5, ['a', 'b', 'c'])\n",
        "function(6)"
      ],
      "execution_count": null,
      "outputs": [
        {
          "output_type": "stream",
          "name": "stdout",
          "text": [
            "[0, 1, 8]\n",
            "['a', 'b', 'c', 0, 1, 8, 27, 64]\n",
            "[0, 1, 8, 0, 1, 8, 27, 64, 125]\n"
          ]
        }
      ]
    },
    {
      "cell_type": "code",
      "metadata": {
        "colab": {
          "base_uri": "https://localhost:8080/"
        },
        "id": "NGnsWIFBnglC",
        "outputId": "e9003b1d-3734-4331-8af9-3fba7d0077af"
      },
      "source": [
        "def function(*args, **kwargs):\n",
        "    print(args, kwargs)\n",
        "function(3,4)\n",
        "function(x=3,y=4)\n",
        "function(1,2,x=3,y=4)"
      ],
      "execution_count": null,
      "outputs": [
        {
          "output_type": "stream",
          "name": "stdout",
          "text": [
            "(3, 4) {}\n",
            "() {'x': 3, 'y': 4}\n",
            "(1, 2) {'x': 3, 'y': 4}\n"
          ]
        }
      ]
    },
    {
      "cell_type": "code",
      "metadata": {
        "colab": {
          "base_uri": "https://localhost:8080/"
        },
        "id": "Wm56fhyWoXYD",
        "outputId": "561e649f-eb5e-46aa-8b39-0afa385c0c00"
      },
      "source": [
        "def is_palindrome(string):\n",
        "    inverse = string[::-1]\n",
        "    if string == inverse:\n",
        "        return True\n",
        "    else:\n",
        "        return False\n",
        "is_palindrome('adama')\n",
        "is_palindrome('laval')"
      ],
      "execution_count": null,
      "outputs": [
        {
          "output_type": "execute_result",
          "data": {
            "text/plain": [
              "True"
            ]
          },
          "metadata": {},
          "execution_count": 86
        }
      ]
    },
    {
      "cell_type": "code",
      "metadata": {
        "colab": {
          "base_uri": "https://localhost:8080/"
        },
        "id": "_2MzTm4MpD69",
        "outputId": "853b4291-5785-4660-de46-b516a2346288"
      },
      "source": [
        "stocks = ['playway', 'boombit', 'cd projekt']\n",
        "print(list(map(lambda stock: len(stock), stocks)))"
      ],
      "execution_count": null,
      "outputs": [
        {
          "output_type": "stream",
          "name": "stdout",
          "text": [
            "[7, 7, 10]\n"
          ]
        }
      ]
    },
    {
      "cell_type": "code",
      "metadata": {
        "colab": {
          "base_uri": "https://localhost:8080/"
        },
        "id": "ZQ6D_264p_Oc",
        "outputId": "033c9783-475e-4b5d-8746-c4ced0f8f001"
      },
      "source": [
        "def sort_list(items):\n",
        "    return sorted(items, key=lambda item: item[1])\n",
        "sort_list([(1,3),(4,1),(4,2),(0,7)])"
      ],
      "execution_count": null,
      "outputs": [
        {
          "output_type": "execute_result",
          "data": {
            "text/plain": [
              "[(4, 1), (4, 2), (1, 3), (0, 7)]"
            ]
          },
          "metadata": {},
          "execution_count": 91
        }
      ]
    },
    {
      "cell_type": "code",
      "metadata": {
        "id": "mai3Htdbq8U3"
      },
      "source": [
        "func_2 = lambda x, y: x + y + 2"
      ],
      "execution_count": null,
      "outputs": []
    },
    {
      "cell_type": "code",
      "metadata": {
        "id": "uNI6hfjby4aA"
      },
      "source": [
        "items = [(3, 4), (2, 5), (1, 4), (6, 1)]\n",
        "items.sort(key=lambda item: item[0]**2 + item[1]**2)"
      ],
      "execution_count": null,
      "outputs": []
    },
    {
      "cell_type": "code",
      "metadata": {
        "colab": {
          "base_uri": "https://localhost:8080/"
        },
        "id": "YZ3ILL4X0EBk",
        "outputId": "a1ab1fa9-75d3-491c-db22-824b5e48f225"
      },
      "source": [
        "print(items)"
      ],
      "execution_count": null,
      "outputs": [
        {
          "output_type": "stream",
          "name": "stdout",
          "text": [
            "[(1, 4), (3, 4), (2, 5), (6, 1)]\n"
          ]
        }
      ]
    },
    {
      "cell_type": "code",
      "metadata": {
        "colab": {
          "base_uri": "https://localhost:8080/"
        },
        "id": "nC_MF12H0rWY",
        "outputId": "80437ff2-589d-4251-f27d-1fcc7a1456e3"
      },
      "source": [
        "stocks = [\n",
        "    {'index': 'mWIG40', 'name': 'TEN', 'price': 304},\n",
        "    {'index': 'mWIG40', 'name': 'PLW', 'price': 309},\n",
        "    {'index': 'sWIG80', 'name': 'BBT', 'price': 22}\n",
        "]\n",
        "stocks.sort(key=lambda stock: stock['price'])\n",
        "print(stocks)"
      ],
      "execution_count": null,
      "outputs": [
        {
          "output_type": "stream",
          "name": "stdout",
          "text": [
            "[{'index': 'sWIG80', 'name': 'BBT', 'price': 22}, {'index': 'mWIG40', 'name': 'TEN', 'price': 304}, {'index': 'mWIG40', 'name': 'PLW', 'price': 309}]\n"
          ]
        }
      ]
    },
    {
      "cell_type": "code",
      "metadata": {
        "colab": {
          "base_uri": "https://localhost:8080/"
        },
        "id": "DSpqwokv6EfP",
        "outputId": "0ce6db90-10ba-4453-f390-03dc0a8ba71b"
      },
      "source": [
        "print([stock for stock in stocks if stock['index']=='mWIG40'])\n",
        "print(list(filter(lambda item: item['index'] == 'mWIG40', stocks)))\n"
      ],
      "execution_count": null,
      "outputs": [
        {
          "output_type": "stream",
          "name": "stdout",
          "text": [
            "[{'index': 'mWIG40', 'name': 'TEN', 'price': 304}, {'index': 'mWIG40', 'name': 'PLW', 'price': 309}]\n",
            "<filter object at 0x7f89fef60990>\n"
          ]
        }
      ]
    },
    {
      "cell_type": "code",
      "metadata": {
        "colab": {
          "base_uri": "https://localhost:8080/"
        },
        "id": "_BJbZTzf8LiY",
        "outputId": "f21046be-d395-4b49-e5a7-b63a4b349bc1"
      },
      "source": [
        "stocks = [\n",
        "    {'index': 'mWIG40', 'name': 'TEN', 'price': 304},\n",
        "    {'index': 'mWIG40', 'name': 'PLW', 'price': 309},\n",
        "    {'index': 'sWIG80', 'name': 'BBT', 'price': 22}\n",
        "]\n",
        "list(map(lambda stock: stock['index']=='mWIG40', stocks))"
      ],
      "execution_count": null,
      "outputs": [
        {
          "output_type": "execute_result",
          "data": {
            "text/plain": [
              "[True, True, False]"
            ]
          },
          "metadata": {},
          "execution_count": 103
        }
      ]
    },
    {
      "cell_type": "code",
      "metadata": {
        "colab": {
          "base_uri": "https://localhost:8080/"
        },
        "id": "api85Ic99h9Y",
        "outputId": "ff5bd673-a808-4dff-8aa9-f8492868a828"
      },
      "source": [
        "timeit '[print(x) for x in range(100)]'\n"
      ],
      "execution_count": null,
      "outputs": [
        {
          "output_type": "stream",
          "name": "stdout",
          "text": [
            "100000000 loops, best of 5: 12.7 ns per loop\n"
          ]
        }
      ]
    },
    {
      "cell_type": "code",
      "metadata": {
        "colab": {
          "base_uri": "https://localhost:8080/"
        },
        "id": "_y7bQQI7-Wx9",
        "outputId": "abf5833f-2d30-42fd-8d6d-6529a19df2a3"
      },
      "source": [
        "#remove - from each item\n",
        "items = ['P-1', 'R-2', 'D-4', 'F-6']\n",
        "print(list(map(lambda item: item.replace('-', ''), items)))"
      ],
      "execution_count": null,
      "outputs": [
        {
          "output_type": "stream",
          "name": "stdout",
          "text": [
            "['P1', 'R2', 'D4', 'F6']\n"
          ]
        }
      ]
    },
    {
      "cell_type": "code",
      "metadata": {
        "colab": {
          "base_uri": "https://localhost:8080/"
        },
        "id": "6RCL3z6__W3_",
        "outputId": "f53100ce-6e2c-47e0-cd92-a5debef10797"
      },
      "source": [
        "num1 = [4, 2, 6, 2, 11]\n",
        "num2 = [5, 2, 3, 3, 9]\n",
        " \n",
        "print(list(map(lambda x, y: x % y, num1, num2)))"
      ],
      "execution_count": null,
      "outputs": [
        {
          "output_type": "stream",
          "name": "stdout",
          "text": [
            "[4, 0, 0, 2, 2]\n"
          ]
        }
      ]
    },
    {
      "cell_type": "code",
      "metadata": {
        "colab": {
          "base_uri": "https://localhost:8080/"
        },
        "id": "zDsoaDR-_vnN",
        "outputId": "fcfbe885-98ce-4f2e-97f9-6ce20dd52398"
      },
      "source": [
        "# implement a generator that select names of file with extension '.txt'\n",
        "fnames = ['data1.txt', 'data2.txt', 'data3.txt', 'view.jpg']\n",
        "def file_gen(fnames):\n",
        "  for name in fnames:\n",
        "    if '.txt' in name:\n",
        "      yield name\n",
        "\n",
        "list(file_gen(fnames))"
      ],
      "execution_count": null,
      "outputs": [
        {
          "output_type": "execute_result",
          "data": {
            "text/plain": [
              "['data1.txt', 'data2.txt', 'data3.txt']"
            ]
          },
          "metadata": {},
          "execution_count": 108
        }
      ]
    },
    {
      "cell_type": "code",
      "metadata": {
        "colab": {
          "base_uri": "https://localhost:8080/"
        },
        "id": "7k7O3l-XFxkI",
        "outputId": "29fdc5c0-19a4-459a-9be1-d92173775544"
      },
      "source": [
        "#implement a generator called enum() that works just like the enumerate() built-in function\n",
        "lst = ['TEN','CDR','BBT']\n",
        "def enum(lst):\n",
        "  cpt = 0\n",
        "  for item in lst:\n",
        "    yield (cpt,item)\n",
        "    cpt += 1\n",
        "print(list(enum(lst)))"
      ],
      "execution_count": null,
      "outputs": [
        {
          "output_type": "stream",
          "name": "stdout",
          "text": [
            "[(0, 'TEN'), (1, 'CDR'), (2, 'BBT')]\n"
          ]
        }
      ]
    },
    {
      "cell_type": "code",
      "metadata": {
        "colab": {
          "base_uri": "https://localhost:8080/"
        },
        "id": "Jd9jyzHHJgbE",
        "outputId": "62c8c49c-ba8d-4e85-b1d3-ae09f8ad1a4c"
      },
      "source": [
        "def dayname(index):\n",
        "    days = ['Mon', 'Tue', 'Wed', 'Thu', 'Fri', 'Sat', 'Sun']\n",
        "    yield days[index - 1]\n",
        "    yield days[index]\n",
        "    yield days[(index + 1) % 7]\n",
        "print(list(dayname(0)))"
      ],
      "execution_count": null,
      "outputs": [
        {
          "output_type": "stream",
          "name": "stdout",
          "text": [
            "['Sun', 'Mon', 'Tue']\n"
          ]
        }
      ]
    },
    {
      "cell_type": "code",
      "metadata": {
        "id": "w5Dox2udN5-2"
      },
      "source": [
        "omega = {(i, j) for i in range(1, 7) for j in range(1, 7)}"
      ],
      "execution_count": null,
      "outputs": []
    },
    {
      "cell_type": "code",
      "metadata": {
        "colab": {
          "base_uri": "https://localhost:8080/"
        },
        "id": "6lPfZi6HOnGr",
        "outputId": "736fd320-8b01-4bc6-9351-9f3a1d9469dd"
      },
      "source": [
        "print(omega)"
      ],
      "execution_count": null,
      "outputs": [
        {
          "output_type": "stream",
          "name": "stdout",
          "text": [
            "{(1, 3), (6, 6), (5, 6), (2, 1), (6, 2), (1, 6), (5, 1), (2, 5), (1, 2), (3, 3), (5, 5), (4, 4), (6, 3), (1, 5), (3, 6), (2, 2), (4, 1), (1, 1), (6, 4), (3, 2), (2, 6), (5, 4), (4, 5), (5, 2), (1, 4), (2, 3), (4, 2), (6, 5), (3, 5), (5, 3), (4, 6), (6, 1), (3, 1), (4, 3), (3, 4), (2, 4)}\n"
          ]
        }
      ]
    },
    {
      "cell_type": "code",
      "metadata": {
        "colab": {
          "base_uri": "https://localhost:8080/"
        },
        "id": "_mqHZHNwOrAP",
        "outputId": "9610ac2d-a2c0-4586-e4af-e0efd16972c6"
      },
      "source": [
        "omega = {(i, j) for i in range(1, 7) for j in range(1, 7)}\n",
        "sum_gt_10 = {pair for pair in omega if pair[0] + pair[1] > 10}\n",
        "print(f'Probability: {len(sum_gt_10) / len(omega):.2f}')"
      ],
      "execution_count": null,
      "outputs": [
        {
          "output_type": "stream",
          "name": "stdout",
          "text": [
            "Probability: 0.08\n"
          ]
        }
      ]
    },
    {
      "cell_type": "code",
      "metadata": {
        "colab": {
          "base_uri": "https://localhost:8080/"
        },
        "id": "mTuvv1XTQIJ5",
        "outputId": "a232e869-bf4b-4ead-b20a-45ef2643edd3"
      },
      "source": [
        "desc = \"Playway: Playway is a producer of computer games.\"\n",
        "desc = desc.lower()\n",
        "desc = desc.replace(':', '')\n",
        "desc = desc.replace('.', '')\n",
        "words = desc.split()\n",
        "print(desc)\n",
        "print(words)"
      ],
      "execution_count": null,
      "outputs": [
        {
          "output_type": "stream",
          "name": "stdout",
          "text": [
            "playway playway is a producer of computer games\n",
            "['playway', 'playway', 'is', 'a', 'producer', 'of', 'computer', 'games']\n"
          ]
        }
      ]
    },
    {
      "cell_type": "code",
      "metadata": {
        "colab": {
          "base_uri": "https://localhost:8080/"
        },
        "id": "d9mBpf9lRVCu",
        "outputId": "9ecc41ec-7611-4b8c-b43a-892516d3dcd6"
      },
      "source": [
        "len(list(set(words)))"
      ],
      "execution_count": null,
      "outputs": [
        {
          "output_type": "execute_result",
          "data": {
            "text/plain": [
              "7"
            ]
          },
          "metadata": {},
          "execution_count": 125
        }
      ]
    },
    {
      "cell_type": "code",
      "metadata": {
        "colab": {
          "base_uri": "https://localhost:8080/"
        },
        "id": "LTu2gaKIR2B3",
        "outputId": "fe685999-ccca-4432-9342-ca38849edcba"
      },
      "source": [
        "data = dict(zip(('a', 'b', 'c', 'd', 'e', 'f'),(1, 2, 3, 4, 5, 6)))\n",
        "print(data)"
      ],
      "execution_count": null,
      "outputs": [
        {
          "output_type": "stream",
          "name": "stdout",
          "text": [
            "{'a': 1, 'b': 2, 'c': 3, 'd': 4, 'e': 5, 'f': 6}\n"
          ]
        }
      ]
    },
    {
      "cell_type": "code",
      "metadata": {
        "colab": {
          "base_uri": "https://localhost:8080/"
        },
        "id": "tLRCSTMuUOUy",
        "outputId": "40b6842d-9746-4975-8441-f2f9f6acfa96"
      },
      "source": [
        "\n",
        "result = [[item[0], item[1]] for item in data.items()]\n",
        "print(result)"
      ],
      "execution_count": null,
      "outputs": [
        {
          "output_type": "stream",
          "name": "stdout",
          "text": [
            "[['a', 1], ['b', 2], ['c', 3], ['d', 4], ['e', 5], ['f', 6]]\n"
          ]
        }
      ]
    },
    {
      "cell_type": "code",
      "metadata": {
        "colab": {
          "base_uri": "https://localhost:8080/"
        },
        "id": "VYLgVKVwUhHd",
        "outputId": "1ca36af5-363a-4546-fd0e-30646763fbd1"
      },
      "source": [
        "{item:item**2 for item in range(1,8)}"
      ],
      "execution_count": null,
      "outputs": [
        {
          "output_type": "execute_result",
          "data": {
            "text/plain": [
              "{1: 1, 2: 4, 3: 9, 4: 16, 5: 25, 6: 36, 7: 49}"
            ]
          },
          "metadata": {},
          "execution_count": 135
        }
      ]
    },
    {
      "cell_type": "code",
      "metadata": {
        "colab": {
          "base_uri": "https://localhost:8080/"
        },
        "id": "ZX4UD2kIWFWp",
        "outputId": "006acdf6-84c1-4f7e-8c6c-fa3c8b5c77d9"
      },
      "source": [
        "import calendar\n",
        "#print(calendar.calendar(2020))\n",
        "from datetime import date\n",
        " \n",
        "date1 = date(2020, 6, 1)\n",
        "date2 = date(2020, 7, 18)\n",
        "diff = date2 - date1\n",
        "print(diff)"
      ],
      "execution_count": null,
      "outputs": [
        {
          "output_type": "stream",
          "name": "stdout",
          "text": [
            "47 days, 0:00:00\n"
          ]
        }
      ]
    },
    {
      "cell_type": "code",
      "metadata": {
        "colab": {
          "base_uri": "https://localhost:8080/"
        },
        "id": "pEHlMKTBX4CO",
        "outputId": "6c2c80de-2832-4b38-810d-d16a3ba1a3ba"
      },
      "source": [
        "import re\n",
        " \n",
        "string = 'Python 3.8'\n",
        "result = re.findall(pattern=r\"\\d\", string=string)\n",
        "print(result)"
      ],
      "execution_count": null,
      "outputs": [
        {
          "output_type": "stream",
          "name": "stdout",
          "text": [
            "['3', '8']\n"
          ]
        }
      ]
    },
    {
      "cell_type": "code",
      "metadata": {
        "colab": {
          "base_uri": "https://localhost:8080/"
        },
        "id": "UltU0D3sYbO-",
        "outputId": "d92e9af4-5382-4c72-e0db-174572738075"
      },
      "source": [
        "import re\n",
        " \n",
        "string = '!@#$%^&45wc'\n",
        "result = re.findall(pattern=r\"\\w\", string=string)\n",
        "print(result)"
      ],
      "execution_count": null,
      "outputs": [
        {
          "output_type": "stream",
          "name": "stdout",
          "text": [
            "['4', '5', 'w', 'c']\n"
          ]
        }
      ]
    },
    {
      "cell_type": "code",
      "metadata": {
        "colab": {
          "base_uri": "https://localhost:8080/"
        },
        "id": "CZ69gUplYt_n",
        "outputId": "cc89ce5d-ccfb-43c2-94cb-e3fa6983ed55"
      },
      "source": [
        "import re\n",
        " \n",
        "raw_text = \"Send an email to info@template.com or sales-info@template.it\"\n",
        "result = re.findall(r\"[\\w\\.-]+@[\\w\\.-]+\", raw_text)\n",
        "print(result)"
      ],
      "execution_count": null,
      "outputs": [
        {
          "output_type": "stream",
          "name": "stdout",
          "text": [
            "['info@template.com', 'sales-info@template.it']\n"
          ]
        }
      ]
    },
    {
      "cell_type": "code",
      "metadata": {
        "colab": {
          "base_uri": "https://localhost:8080/"
        },
        "id": "9PwC29t-Y2Wv",
        "outputId": "56446d5f-0b5f-45ae-b16e-9f4f65f15c16"
      },
      "source": [
        "import re\n",
        " \n",
        "text = 'Programming in Python - from A to Z'\n",
        "result = re.split(pattern=r\"\\s+\", string=text)\n",
        "print(result)"
      ],
      "execution_count": null,
      "outputs": [
        {
          "output_type": "stream",
          "name": "stdout",
          "text": [
            "['Programming', 'in', 'Python', '-', 'from', 'A', 'to', 'Z']\n"
          ]
        }
      ]
    },
    {
      "cell_type": "code",
      "metadata": {
        "colab": {
          "base_uri": "https://localhost:8080/"
        },
        "id": "nMZI2FR-Y-Wz",
        "outputId": "2abc5ab4-c278-410a-d22e-cb832c1ff68b"
      },
      "source": [
        "import string\n",
        " \n",
        "print(string.ascii_letters)"
      ],
      "execution_count": null,
      "outputs": [
        {
          "output_type": "stream",
          "name": "stdout",
          "text": [
            "abcdefghijklmnopqrstuvwxyzABCDEFGHIJKLMNOPQRSTUVWXYZ\n"
          ]
        }
      ]
    },
    {
      "cell_type": "code",
      "metadata": {
        "colab": {
          "base_uri": "https://localhost:8080/"
        },
        "id": "RIMf_ulsZR_q",
        "outputId": "ae82123f-6820-4256-9f99-18418bdd81fe"
      },
      "source": [
        "import random\n",
        " \n",
        "random.seed(12)\n",
        " \n",
        "items = ['python', 'java', 'sql', 'c++', 'c']\n",
        "choice = random.choice(items)\n",
        "print(choice)"
      ],
      "execution_count": null,
      "outputs": [
        {
          "output_type": "stream",
          "name": "stdout",
          "text": [
            "c++\n"
          ]
        }
      ]
    },
    {
      "cell_type": "code",
      "metadata": {
        "colab": {
          "base_uri": "https://localhost:8080/"
        },
        "id": "rPEtCRBDaZzd",
        "outputId": "015847d2-2425-4e80-b1a1-de9f62b9e712"
      },
      "source": [
        "import random\n",
        " \n",
        "random.seed(15)\n",
        " \n",
        "items = ['python', 'java', 'sql', 'c++', 'c']\n",
        "random.shuffle(items)\n",
        "print(items)"
      ],
      "execution_count": null,
      "outputs": [
        {
          "output_type": "stream",
          "name": "stdout",
          "text": [
            "['c', 'c++', 'sql', 'python', 'java']\n"
          ]
        }
      ]
    },
    {
      "cell_type": "code",
      "metadata": {
        "colab": {
          "base_uri": "https://localhost:8080/"
        },
        "id": "RlHVsMzOebJh",
        "outputId": "01777508-148b-45e7-ae1f-ab88680156e1"
      },
      "source": [
        "import json\n",
        " \n",
        "stocks = {'PLW': 360.0, 'TEN': 320.0, 'CDR': 329.0}\n",
        "result = json.dumps(stocks, sort_keys=True, indent=4)\n",
        "print(result)"
      ],
      "execution_count": null,
      "outputs": [
        {
          "output_type": "stream",
          "name": "stdout",
          "text": [
            "{\n",
            "    \"CDR\": 329.0,\n",
            "    \"PLW\": 360.0,\n",
            "    \"TEN\": 320.0\n",
            "}\n"
          ]
        }
      ]
    },
    {
      "cell_type": "code",
      "metadata": {
        "colab": {
          "base_uri": "https://localhost:8080/"
        },
        "id": "5WEHSPZ5exi7",
        "outputId": "381ca44b-3aca-4855-9af0-331265456d49"
      },
      "source": [
        "y_true = [0, 0, 1, 1, 0, 1, 0]\n",
        "y_pred = [0, 0, 1, 0, 0, 1, 0]\n",
        " \n",
        "def accuracy(y_true, y_pred):\n",
        "    counter = 0\n",
        "    for i, j in zip(y_true, y_pred):\n",
        "        if i == j:\n",
        "            counter += 1\n",
        "    return round(counter / len(y_true), 4)\n",
        " \n",
        "print(accuracy(y_true, y_pred))"
      ],
      "execution_count": null,
      "outputs": [
        {
          "output_type": "stream",
          "name": "stdout",
          "text": [
            "0.8571\n"
          ]
        }
      ]
    },
    {
      "cell_type": "code",
      "metadata": {
        "colab": {
          "base_uri": "https://localhost:8080/"
        },
        "id": "J8U_79ycfcdb",
        "outputId": "85e68c6d-ccd0-44c2-8499-94701770a3f5"
      },
      "source": [
        "list(zip(y_true, y_pred))"
      ],
      "execution_count": null,
      "outputs": [
        {
          "output_type": "execute_result",
          "data": {
            "text/plain": [
              "[(0, 0), (0, 0), (1, 1), (1, 0), (0, 0), (1, 1), (0, 0)]"
            ]
          },
          "metadata": {},
          "execution_count": 155
        }
      ]
    },
    {
      "cell_type": "code",
      "metadata": {
        "colab": {
          "base_uri": "https://localhost:8080/"
        },
        "id": "VwjvHZBpffXd",
        "outputId": "14b7eb41-a76b-4c53-c4b4-1aae655f3fd3"
      },
      "source": [
        "items = [[1,2,3],[4,5,6],[7,8,9]]\n",
        "def flatten(items):\n",
        "    result = []\n",
        "    for item in items:\n",
        "        result.extend(item)\n",
        "    return result\n",
        "flatten(items)"
      ],
      "execution_count": null,
      "outputs": [
        {
          "output_type": "execute_result",
          "data": {
            "text/plain": [
              "[1, 2, 3, 4, 5, 6, 7, 8, 9]"
            ]
          },
          "metadata": {},
          "execution_count": 157
        }
      ]
    },
    {
      "cell_type": "code",
      "metadata": {
        "colab": {
          "base_uri": "https://localhost:8080/"
        },
        "id": "uMyfkt98gPaW",
        "outputId": "0e7d4574-ce42-4a9d-e367-e5d5cb26303a"
      },
      "source": [
        "def transfer_zeros(items):\n",
        "    result = []\n",
        "    counter = 0\n",
        "    for item in items:\n",
        "        if item == 0:\n",
        "            counter += 1\n",
        "        else:\n",
        "            result.append(item)\n",
        "    result.extend([0] * counter)\n",
        "    return result\n",
        "\n",
        "lst = [3,4,0,2,0,5,1,6,2]\n",
        "def transfer_zeros(items):\n",
        "    result = []\n",
        "    counter = 0\n",
        "    for item in items:\n",
        "        if item == 0:\n",
        "            counter += 1\n",
        "        else:\n",
        "            result.append(item)\n",
        "    result.extend([0] * counter)\n",
        "    return result\n",
        "transfer_zeros(lst)"
      ],
      "execution_count": null,
      "outputs": [
        {
          "output_type": "execute_result",
          "data": {
            "text/plain": [
              "[3, 4, 2, 5, 1, 6, 2, 0, 0]"
            ]
          },
          "metadata": {},
          "execution_count": 159
        }
      ]
    },
    {
      "cell_type": "code",
      "metadata": {
        "colab": {
          "base_uri": "https://localhost:8080/"
        },
        "id": "U9H5JUyhhJRT",
        "outputId": "6ae5acea-7c1d-4390-df92-b0c954721d0d"
      },
      "source": [
        "def euclidean_distance(coord1, coord2):\n",
        "    squared_diff = [(i - j)**2 for i, j in zip(coord1, coord2)]\n",
        "    return (sum(squared_diff)) ** 0.5\n",
        "euclidean_distance([0, 3], [4,0])"
      ],
      "execution_count": null,
      "outputs": [
        {
          "output_type": "execute_result",
          "data": {
            "text/plain": [
              "5.0"
            ]
          },
          "metadata": {},
          "execution_count": 162
        }
      ]
    },
    {
      "cell_type": "code",
      "metadata": {
        "colab": {
          "base_uri": "https://localhost:8080/"
        },
        "id": "ycYM_hIchtwy",
        "outputId": "2978cc80-4b1f-4148-9e06-4384a80fa5fc"
      },
      "source": [
        "def arange(start, stop, step=1):\n",
        "    result = []\n",
        "    for i in range(start, stop, step):\n",
        "        result.append(i)\n",
        "    return result\n",
        "arange(0,10)"
      ],
      "execution_count": null,
      "outputs": [
        {
          "output_type": "execute_result",
          "data": {
            "text/plain": [
              "[0, 1, 2, 3, 4, 5, 6, 7, 8, 9]"
            ]
          },
          "metadata": {},
          "execution_count": 163
        }
      ]
    },
    {
      "cell_type": "code",
      "metadata": {
        "colab": {
          "base_uri": "https://localhost:8080/"
        },
        "id": "0aTYTo_Silp5",
        "outputId": "ba01f4ef-400f-4b53-926e-0a20b6d42a79"
      },
      "source": [
        "def concat(l1, l2):\n",
        "    result = []\n",
        "    for i, j in zip(l1, l2):\n",
        "        result.append([i[0], j[0]])\n",
        "    return result\n",
        "l1 = [[1],[2]]\n",
        "l2 = [[3],[4]]\n",
        "concat(l1, l2)"
      ],
      "execution_count": null,
      "outputs": [
        {
          "output_type": "execute_result",
          "data": {
            "text/plain": [
              "[[1, 3], [2, 4]]"
            ]
          },
          "metadata": {},
          "execution_count": 164
        }
      ]
    },
    {
      "cell_type": "code",
      "metadata": {
        "colab": {
          "base_uri": "https://localhost:8080/"
        },
        "id": "q1gdRubRjB0g",
        "outputId": "7176299e-8c47-4983-e90f-de01ed85fa25"
      },
      "source": [
        "def identity(n):\n",
        "    array = [[0]*n for i in range(n)]\n",
        "    for idx, item in enumerate(array):\n",
        "        item[idx] = 1\n",
        "    return array\n",
        "#identity(2)\n",
        "#identity(3)\n",
        "identity(4)"
      ],
      "execution_count": null,
      "outputs": [
        {
          "output_type": "execute_result",
          "data": {
            "text/plain": [
              "[[1, 0, 0, 0], [0, 1, 0, 0], [0, 0, 1, 0], [0, 0, 0, 1]]"
            ]
          },
          "metadata": {},
          "execution_count": 171
        }
      ]
    },
    {
      "cell_type": "code",
      "metadata": {
        "colab": {
          "base_uri": "https://localhost:8080/"
        },
        "id": "C_a9nhnWjPOo",
        "outputId": "c1001a9a-6866-4841-aa41-6bbda641684a"
      },
      "source": [
        "def fill_value(height, width, value):\n",
        "    return [[value] * width for i in range(height)]\n",
        "fill_value(height=2, width=3, value=255)"
      ],
      "execution_count": null,
      "outputs": [
        {
          "output_type": "execute_result",
          "data": {
            "text/plain": [
              "[[255, 255, 255], [255, 255, 255]]"
            ]
          },
          "metadata": {},
          "execution_count": 173
        }
      ]
    },
    {
      "cell_type": "code",
      "metadata": {
        "colab": {
          "base_uri": "https://localhost:8080/"
        },
        "id": "CDoMIfH_kECg",
        "outputId": "ac1a3162-80e2-4798-c052-f1b9c825c397"
      },
      "source": [
        "fill_value(4,2,'a')"
      ],
      "execution_count": null,
      "outputs": [
        {
          "output_type": "execute_result",
          "data": {
            "text/plain": [
              "[['a', 'a'], ['a', 'a'], ['a', 'a'], ['a', 'a']]"
            ]
          },
          "metadata": {},
          "execution_count": 174
        }
      ]
    },
    {
      "cell_type": "code",
      "metadata": {
        "colab": {
          "base_uri": "https://localhost:8080/"
        },
        "id": "uz4kUstUkkRn",
        "outputId": "7496a739-1f5f-4b17-d5db-00b6222f4f39"
      },
      "source": [
        "# trace of a matrix\n",
        "def trace(array):\n",
        "    total = 0\n",
        "    for idx, item in enumerate(array):\n",
        "        total += item[idx]\n",
        "    return total\n",
        "trace([[1]])\n",
        "trace([[1,2],[4,2]])"
      ],
      "execution_count": null,
      "outputs": [
        {
          "output_type": "execute_result",
          "data": {
            "text/plain": [
              "3"
            ]
          },
          "metadata": {},
          "execution_count": 178
        }
      ]
    },
    {
      "cell_type": "code",
      "metadata": {
        "colab": {
          "base_uri": "https://localhost:8080/"
        },
        "id": "HlbDxo61lY9E",
        "outputId": "c7a2a787-155f-4eab-f3da-4e6752a5e8a2"
      },
      "source": [
        "def dot_product(vec1, vec2):\n",
        "    return sum([v * w for v, w in zip(vec1, vec2)])\n",
        "dot_product([1,2],[5,2])\n",
        "vec1 = [1,2]\n",
        "vec2 = [5,2]\n",
        "[v * w for v, w in zip(vec1, vec2)]"
      ],
      "execution_count": null,
      "outputs": [
        {
          "output_type": "execute_result",
          "data": {
            "text/plain": [
              "[5, 4]"
            ]
          },
          "metadata": {},
          "execution_count": 180
        }
      ]
    },
    {
      "cell_type": "code",
      "metadata": {
        "colab": {
          "base_uri": "https://localhost:8080/"
        },
        "id": "krollXNtmGBp",
        "outputId": "777656ef-9d1d-4764-bb9b-607dd06c60e8"
      },
      "source": [
        "lst = [1,None, None, 5, None,2]\n",
        "lst.count(None)\n",
        "def count_none(items):\n",
        "    counter = 0\n",
        "    for item in items:\n",
        "        if not item:\n",
        "            counter += 1\n",
        "    return counter\n",
        "count_none(lst)"
      ],
      "execution_count": null,
      "outputs": [
        {
          "output_type": "execute_result",
          "data": {
            "text/plain": [
              "3"
            ]
          },
          "metadata": {},
          "execution_count": 182
        }
      ]
    },
    {
      "cell_type": "code",
      "metadata": {
        "colab": {
          "base_uri": "https://localhost:8080/"
        },
        "id": "DgdiZYMemv0g",
        "outputId": "1c9c61ba-defd-4799-ea59-4bd599394165"
      },
      "source": [
        "lst = [4,5,2,9,5,2,8,2,8,10]\n",
        "max(lst)"
      ],
      "execution_count": null,
      "outputs": [
        {
          "output_type": "execute_result",
          "data": {
            "text/plain": [
              "10"
            ]
          },
          "metadata": {},
          "execution_count": 183
        }
      ]
    },
    {
      "cell_type": "code",
      "metadata": {
        "colab": {
          "base_uri": "https://localhost:8080/"
        },
        "id": "ZzqYtAxCnWaI",
        "outputId": "d68aa2bc-c907-44f8-ff3e-7ab406493272"
      },
      "source": [
        "def top_n(lst, n):\n",
        "  max_ = -1\n",
        "  for n in range(0,n):\n",
        "    max_ = max(lst)\n",
        "    yield max_\n",
        "    lst.remove(max_)\n",
        "print(list(top_n(lst,3)))\n"
      ],
      "execution_count": null,
      "outputs": [
        {
          "output_type": "stream",
          "name": "stdout",
          "text": [
            "[10, 9, 8]\n"
          ]
        }
      ]
    },
    {
      "cell_type": "code",
      "metadata": {
        "colab": {
          "base_uri": "https://localhost:8080/"
        },
        "id": "YBUD_k_nn2Ob",
        "outputId": "681b1d98-e60f-43e6-d377-dc3c2c889d00"
      },
      "source": [
        "def top_n2(items, n):\n",
        "    items.sort(reverse=True)\n",
        "    return items[:n]\n",
        "lst = [4,5,2,9,5,2,8,2,8,10]\n",
        "print(list(top_n2(lst,3)))"
      ],
      "execution_count": null,
      "outputs": [
        {
          "output_type": "stream",
          "name": "stdout",
          "text": [
            "[10, 9, 8]\n"
          ]
        }
      ]
    },
    {
      "cell_type": "code",
      "metadata": {
        "id": "2i4Axvs7omM7"
      },
      "source": [
        ""
      ],
      "execution_count": null,
      "outputs": []
    },
    {
      "cell_type": "markdown",
      "metadata": {
        "id": "1WewwU-XCn9j"
      },
      "source": [
        "##Boats to save people\n",
        "You are trying to add people in safety boats\n",
        "\n",
        "\n",
        "*   The maximu no. of people a boat can carry is 2\n",
        "*   Every individual person has a weight lower than or equal to limit\n",
        "*   Worst case scenario is that it would take as many boats as there are people\n",
        "\n",
        "\n",
        "\n",
        "\n"
      ]
    },
    {
      "cell_type": "code",
      "metadata": {
        "id": "5AqCHHD8CuRA"
      },
      "source": [
        "from typing import List\n",
        "\n",
        "class Solution:\n",
        "  def numberRescueBoats(self, people: List[int], limit:int) -> int:\n",
        "    people.sort()\n",
        "    left = 0\n",
        "    right = len(people)-1\n",
        "    boats_number = 0\n",
        "\n",
        "    while (left <= right):\n",
        "      if left == right:\n",
        "        boats_number += 1\n",
        "        break\n",
        "      if people[left] + people[right] <= limit:\n",
        "        left += 1\n",
        "        \n",
        "      right -= 1\n",
        "      boats_number += 1\n",
        "      \n",
        "    return boats_number"
      ],
      "execution_count": null,
      "outputs": []
    },
    {
      "cell_type": "code",
      "metadata": {
        "id": "e1n23XGfGDgo"
      },
      "source": [
        "s = Solution()\n",
        "#[2,3,1,4], limit = 4\n",
        "# [1,2,3,4]\n",
        "#[4]\n",
        "#[1,4]\n",
        "#[2]\n",
        "people = [2,3,1,4]\n",
        "limit = 4\n",
        "answer = s.numberRescueBoats(people, limit)"
      ],
      "execution_count": null,
      "outputs": []
    },
    {
      "cell_type": "code",
      "metadata": {
        "id": "0wyPug79SIBL",
        "outputId": "c608ea7d-0ff8-4a55-8421-a8f6d080ded7",
        "colab": {
          "base_uri": "https://localhost:8080/"
        }
      },
      "source": [
        "print(answer)"
      ],
      "execution_count": null,
      "outputs": [
        {
          "output_type": "stream",
          "name": "stdout",
          "text": [
            "3\n"
          ]
        }
      ]
    },
    {
      "cell_type": "code",
      "metadata": {
        "id": "YSSkVdrJTG0c",
        "outputId": "faa17f52-4dec-44bc-a0a2-d5d368835f0c",
        "colab": {
          "base_uri": "https://localhost:8080/"
        }
      },
      "source": [
        "result = ''\n",
        "lst_dict_1= [{\"x\":116,\"y\":404},{\"x\":161,\"y\":617},{\"x\":16,\"y\":97},{\"x\":430,\"y\":536},{\"x\":601,\"y\":504},{\"x\":425,\"y\":461},{\"x\":114,\"y\":544},{\"x\":127,\"y\":118},{\"x\":163,\"y\":357},{\"x\":704,\"y\":104},{\"x\":864,\"y\":125},{\"x\":847,\"y\":523},{\"x\":742,\"y\":170},{\"x\":204,\"y\":601},{\"x\":421,\"y\":377},{\"x\":808,\"y\":49},{\"x\":860,\"y\":466},{\"x\":844,\"y\":294},{\"x\":147,\"y\":213},{\"x\":550,\"y\":124},{\"x\":238,\"y\":313},{\"x\":57,\"y\":572},{\"x\":664,\"y\":190},{\"x\":612,\"y\":644},{\"x\":456,\"y\":154},{\"x\":120,\"y\":477},{\"x\":542,\"y\":313},{\"x\":620,\"y\":29},{\"x\":245,\"y\":246},{\"x\":611,\"y\":578},{\"x\":627,\"y\":373},{\"x\":534,\"y\":286},{\"x\":577,\"y\":545},{\"x\":539,\"y\":340},{\"x\":794,\"y\":328},{\"x\":855,\"y\":139},{\"x\":700,\"y\":47},{\"x\":275,\"y\":593},{\"x\":130,\"y\":196},{\"x\":863,\"y\":35}]\n",
        "for item in lst_dict_1:\n",
        "  result += str(item['x'])\n",
        "\n",
        "print(result)"
      ],
      "execution_count": null,
      "outputs": [
        {
          "output_type": "stream",
          "name": "stdout",
          "text": [
            "1161611643060142511412716370486484774220442180886084414755023857664612456120542620245611627534577539794855700275130863\n"
          ]
        }
      ]
    },
    {
      "cell_type": "code",
      "source": [
        "lst = [{'one':1},{'two':2},{'three':3},{'four':4},{'five':5},{'six':6},{'seven':7},{'height':8},{'nine':9},{'ten':10},{'eleven':11},{'twelve':12},{'thirteen':11},{'fourteen':14},{'fifteen':15},{'sixteen':16},{'seventeen':17},{'heighteen':18},{'nineteen':19},{'twenty':20},{'thirty':30},{'forty':40},{'fifty':50},{'sixty':60},{'seventy':70},{'heighty':80},{'ninety':90},{'hundred':00},{'thousand':000},{'million':000000},{'billion':000000000} ]\n",
        "result = ''\n",
        "input = 'thirty thousand one hundred twelve'\n",
        "numbers = input.split(' ')\n",
        "for number in numbers:\n",
        "  for item in lst:\n",
        "    int_value = item.get(number, False)\n",
        "    if int_value:\n",
        "      result += str(item.get(number))\n",
        "print(result)"
      ],
      "metadata": {
        "id": "Q0JwX2_LNslZ",
        "outputId": "6e7235eb-56dd-43ce-f181-a7acc3c4c23f",
        "colab": {
          "base_uri": "https://localhost:8080/"
        }
      },
      "execution_count": null,
      "outputs": [
        {
          "output_type": "stream",
          "name": "stdout",
          "text": [
            "30112\n"
          ]
        }
      ]
    },
    {
      "cell_type": "markdown",
      "source": [
        ""
      ],
      "metadata": {
        "id": "EyEdfBkbGBgg"
      }
    },
    {
      "cell_type": "markdown",
      "source": [
        ""
      ],
      "metadata": {
        "id": "EQzGxLzAGC5S"
      }
    },
    {
      "cell_type": "code",
      "source": [
        ""
      ],
      "metadata": {
        "id": "DFqePogZGQUc"
      },
      "execution_count": null,
      "outputs": []
    },
    {
      "cell_type": "code",
      "source": [
        "import numpy as np"
      ],
      "metadata": {
        "id": "gXVGR_N7RLtI"
      },
      "execution_count": null,
      "outputs": []
    },
    {
      "cell_type": "markdown",
      "source": [
        "## Slice\n",
        " +---+---+---+---+---+---+\n",
        " | P | y | t | h | o | n |\n",
        " +---+---+---+---+---+---+\n",
        " 0   1   2   3   4   5   6\n",
        "-6  -5  -4  -3  -2  -1"
      ],
      "metadata": {
        "id": "x2VDE8_SGK-S"
      }
    },
    {
      "cell_type": "code",
      "source": [
        "a = [1, 2, 3, 4, 5, 6, 7, 8, 9]\n",
        "#    0, 1, 2, 3, 4, 5, 6, 7, 8\n",
        "#   -9,-8,-7,-6,-5,-4,-3,-2,-1  \n",
        "print('a[-1]=', a[-1])   # last item in the array\n",
        "print('a[-2:]=', a[-2:])   # last two items in the array\n",
        "print('a[:-2]=', a[:-2])  # everything except the last two items\n",
        "#Similarly, step may be a negative number:\n",
        "print('a[::-1]=', a[::-1])   # all items in the array, reversed\n",
        "print('a[1::-1]=', a[1::-1])  # the first two items, reversed\n",
        "print('a[:-3:-1]=', a[:-3:-1]) # the last two items, reversed\n",
        "print('a[-3::-1]=', a[-3::-1]) # everything except the last two items, reversed\n",
        "print('a[2::-2]=', a[2::-2]) "
      ],
      "metadata": {
        "id": "2MXcKNcmkkiq",
        "colab": {
          "base_uri": "https://localhost:8080/"
        },
        "outputId": "314917b9-b0e6-49ff-c84a-75c35958f964"
      },
      "execution_count": 78,
      "outputs": [
        {
          "output_type": "stream",
          "name": "stdout",
          "text": [
            "a[-1]= 9\n",
            "a[-2:]= [8, 9]\n",
            "a[:-2]= [1, 2, 3, 4, 5, 6, 7]\n",
            "a[::-1]= [9, 8, 7, 6, 5, 4, 3, 2, 1]\n",
            "a[1::-1]= [2, 1]\n",
            "a[:-3:-1]= [9, 8]\n",
            "a[-3::-1]= [7, 6, 5, 4, 3, 2, 1]\n",
            "a[2::-2]= [3, 1]\n"
          ]
        }
      ]
    },
    {
      "cell_type": "code",
      "source": [
        "COMPUTERS = ['C','O','M','P','U','T','E','R','S']\n",
        "#             0   1   2   3   4   5   6   7   8      \n",
        "#            -9  -8  -7  -6  -5  -4  -3  -2  -1 \n",
        "'''\n",
        "COMPUTERS[ 4 : 7 ]     =  UTE\n",
        "COMPUTERS[ 2 : 5 : 2 ] =  MU\n",
        "COMPUTERS[-5 : 1 :-1 ] =  UPM\n",
        "COMPUTERS[ 4 ]         =  U\n",
        "COMPUTERS[-4 :-6 :-1 ] =  TU\n",
        "COMPUTERS[ 2 :-3 : 1 ] =  MPUT\n",
        "COMPUTERS[ 2 :-3 :-1 ] =  \n",
        "COMPUTERS[   :   :-1 ] =  SRETUPMOC\n",
        "COMPUTERS[-5 :   ]     =  UTERS\n",
        "COMPUTERS[-5 : 0 :-1 ] =  UPMO\n",
        "COMPUTERS[-5 :   :-1 ] =  UPMOC\n",
        "COMPUTERS[-1 : 1 :-2 ] =  SEUM\n",
        "'''\n"
      ],
      "metadata": {
        "id": "q5ePT-bND2sK",
        "colab": {
          "base_uri": "https://localhost:8080/",
          "height": 70
        },
        "outputId": "5985ba76-302b-4d99-d132-f57719dd7cc5"
      },
      "execution_count": 6,
      "outputs": [
        {
          "output_type": "execute_result",
          "data": {
            "application/vnd.google.colaboratory.intrinsic+json": {
              "type": "string"
            },
            "text/plain": [
              "'\\nCOMPUTERS[ 4 : 7 ]     =  UTE\\nCOMPUTERS[ 2 : 5 : 2 ] =  MU\\nCOMPUTERS[-5 : 1 :-1 ] =  UPM\\nCOMPUTERS[ 4 ]         =  U\\nCOMPUTERS[-4 :-6 :-1 ] =  TU\\nCOMPUTERS[ 2 :-3 : 1 ] =  MPUT\\nCOMPUTERS[ 2 :-3 :-1 ] =  \\nCOMPUTERS[   :   :-1 ] =  SRETUPMOC\\nCOMPUTERS[-5 :   ]     =  UTERS\\nCOMPUTERS[-5 : 0 :-1 ] =  UPMO\\nCOMPUTERS[-5 :   :-1 ] =  UPMOC\\nCOMPUTERS[-1 : 1 :-2 ] =  SEUM\\n'"
            ]
          },
          "metadata": {},
          "execution_count": 6
        }
      ]
    },
    {
      "cell_type": "code",
      "source": [
        "COMPUTERS[ 2 :-3 :-1 ]\n"
      ],
      "metadata": {
        "colab": {
          "base_uri": "https://localhost:8080/"
        },
        "id": "6vg_8nKw0K8h",
        "outputId": "03a48fbe-b3c2-496b-f911-6b2fe7e154d0"
      },
      "execution_count": 14,
      "outputs": [
        {
          "output_type": "execute_result",
          "data": {
            "text/plain": [
              "[]"
            ]
          },
          "metadata": {},
          "execution_count": 14
        }
      ]
    },
    {
      "cell_type": "code",
      "source": [
        ""
      ],
      "metadata": {
        "id": "1vrt7fK3tMOu"
      },
      "execution_count": null,
      "outputs": []
    }
  ]
}